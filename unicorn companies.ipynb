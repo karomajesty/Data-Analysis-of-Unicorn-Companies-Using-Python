{
 "cells": [
  {
   "cell_type": "markdown",
   "id": "50eccfd6",
   "metadata": {},
   "source": [
    "## Data Analysis of Unicorn Companies\n",
    "\n",
    "This notebook presents an exploratory data analysis (EDA) of a dataset containing information on global unicorn companies (privately held startups valued at over $1 billion). The primary goal of this project is to uncover trends, patterns, and insights related to their growth, funding, and industry distribution.\n"
   ]
  },
  {
   "cell_type": "markdown",
   "id": "6666d36d",
   "metadata": {},
   "source": [
    "## 1. Data Loading and Initial Inspection"
   ]
  },
  {
   "cell_type": "code",
   "execution_count": 1,
   "id": "a4499a11",
   "metadata": {},
   "outputs": [],
   "source": [
    "## import all neccesary libraries\n",
    "import pandas as pd\n",
    "import numpy as np\n",
    "import matplotlib.pyplot as plt\n",
    "import seaborn as sns"
   ]
  },
  {
   "cell_type": "code",
   "execution_count": 2,
   "id": "39c3fab1",
   "metadata": {
    "scrolled": true
   },
   "outputs": [
    {
     "data": {
      "text/html": [
       "<div>\n",
       "<style scoped>\n",
       "    .dataframe tbody tr th:only-of-type {\n",
       "        vertical-align: middle;\n",
       "    }\n",
       "\n",
       "    .dataframe tbody tr th {\n",
       "        vertical-align: top;\n",
       "    }\n",
       "\n",
       "    .dataframe thead th {\n",
       "        text-align: right;\n",
       "    }\n",
       "</style>\n",
       "<table border=\"1\" class=\"dataframe\">\n",
       "  <thead>\n",
       "    <tr style=\"text-align: right;\">\n",
       "      <th></th>\n",
       "      <th>Company</th>\n",
       "      <th>Valuation</th>\n",
       "      <th>Date Joined</th>\n",
       "      <th>Industry</th>\n",
       "      <th>City</th>\n",
       "      <th>Country</th>\n",
       "      <th>Continent</th>\n",
       "      <th>Year Founded</th>\n",
       "      <th>Funding</th>\n",
       "      <th>Select Investors</th>\n",
       "    </tr>\n",
       "  </thead>\n",
       "  <tbody>\n",
       "    <tr>\n",
       "      <th>0</th>\n",
       "      <td>Bytedance</td>\n",
       "      <td>$180B</td>\n",
       "      <td>2017-04-07</td>\n",
       "      <td>Artificial intelligence</td>\n",
       "      <td>Beijing</td>\n",
       "      <td>China</td>\n",
       "      <td>Asia</td>\n",
       "      <td>2012</td>\n",
       "      <td>$8B</td>\n",
       "      <td>Sequoia Capital China, SIG Asia Investments, S...</td>\n",
       "    </tr>\n",
       "    <tr>\n",
       "      <th>1</th>\n",
       "      <td>SpaceX</td>\n",
       "      <td>$100B</td>\n",
       "      <td>2012-12-01</td>\n",
       "      <td>Other</td>\n",
       "      <td>Hawthorne</td>\n",
       "      <td>United States</td>\n",
       "      <td>North America</td>\n",
       "      <td>2002</td>\n",
       "      <td>$7B</td>\n",
       "      <td>Founders Fund, Draper Fisher Jurvetson, Rothen...</td>\n",
       "    </tr>\n",
       "    <tr>\n",
       "      <th>2</th>\n",
       "      <td>SHEIN</td>\n",
       "      <td>$100B</td>\n",
       "      <td>2018-07-03</td>\n",
       "      <td>E-commerce &amp; direct-to-consumer</td>\n",
       "      <td>Shenzhen</td>\n",
       "      <td>China</td>\n",
       "      <td>Asia</td>\n",
       "      <td>2008</td>\n",
       "      <td>$2B</td>\n",
       "      <td>Tiger Global Management, Sequoia Capital China...</td>\n",
       "    </tr>\n",
       "    <tr>\n",
       "      <th>3</th>\n",
       "      <td>Stripe</td>\n",
       "      <td>$95B</td>\n",
       "      <td>2014-01-23</td>\n",
       "      <td>Fintech</td>\n",
       "      <td>San Francisco</td>\n",
       "      <td>United States</td>\n",
       "      <td>North America</td>\n",
       "      <td>2010</td>\n",
       "      <td>$2B</td>\n",
       "      <td>Khosla Ventures, LowercaseCapital, capitalG</td>\n",
       "    </tr>\n",
       "    <tr>\n",
       "      <th>4</th>\n",
       "      <td>Klarna</td>\n",
       "      <td>$46B</td>\n",
       "      <td>2011-12-12</td>\n",
       "      <td>Fintech</td>\n",
       "      <td>Stockholm</td>\n",
       "      <td>Sweden</td>\n",
       "      <td>Europe</td>\n",
       "      <td>2005</td>\n",
       "      <td>$4B</td>\n",
       "      <td>Institutional Venture Partners, Sequoia Capita...</td>\n",
       "    </tr>\n",
       "    <tr>\n",
       "      <th>...</th>\n",
       "      <td>...</td>\n",
       "      <td>...</td>\n",
       "      <td>...</td>\n",
       "      <td>...</td>\n",
       "      <td>...</td>\n",
       "      <td>...</td>\n",
       "      <td>...</td>\n",
       "      <td>...</td>\n",
       "      <td>...</td>\n",
       "      <td>...</td>\n",
       "    </tr>\n",
       "    <tr>\n",
       "      <th>1069</th>\n",
       "      <td>Zhaogang</td>\n",
       "      <td>$1B</td>\n",
       "      <td>2017-06-29</td>\n",
       "      <td>E-commerce &amp; direct-to-consumer</td>\n",
       "      <td>Shanghai</td>\n",
       "      <td>China</td>\n",
       "      <td>Asia</td>\n",
       "      <td>2012</td>\n",
       "      <td>$379M</td>\n",
       "      <td>K2 Ventures, Matrix Partners China, IDG Capital</td>\n",
       "    </tr>\n",
       "    <tr>\n",
       "      <th>1070</th>\n",
       "      <td>Zhuan Zhuan</td>\n",
       "      <td>$1B</td>\n",
       "      <td>2017-04-18</td>\n",
       "      <td>E-commerce &amp; direct-to-consumer</td>\n",
       "      <td>Beijing</td>\n",
       "      <td>China</td>\n",
       "      <td>Asia</td>\n",
       "      <td>2015</td>\n",
       "      <td>$990M</td>\n",
       "      <td>58.com, Tencent Holdings</td>\n",
       "    </tr>\n",
       "    <tr>\n",
       "      <th>1071</th>\n",
       "      <td>Zihaiguo</td>\n",
       "      <td>$1B</td>\n",
       "      <td>2021-05-06</td>\n",
       "      <td>Consumer &amp; retail</td>\n",
       "      <td>Chongqing</td>\n",
       "      <td>China</td>\n",
       "      <td>Asia</td>\n",
       "      <td>2018</td>\n",
       "      <td>$80M</td>\n",
       "      <td>Xingwang Investment Management, China Capital ...</td>\n",
       "    </tr>\n",
       "    <tr>\n",
       "      <th>1072</th>\n",
       "      <td>Zopa</td>\n",
       "      <td>$1B</td>\n",
       "      <td>2021-10-19</td>\n",
       "      <td>Fintech</td>\n",
       "      <td>London</td>\n",
       "      <td>United Kingdom</td>\n",
       "      <td>Europe</td>\n",
       "      <td>2005</td>\n",
       "      <td>$792M</td>\n",
       "      <td>IAG Capital Partners, Augmentum Fintech, North...</td>\n",
       "    </tr>\n",
       "    <tr>\n",
       "      <th>1073</th>\n",
       "      <td>Zwift</td>\n",
       "      <td>$1B</td>\n",
       "      <td>2020-09-16</td>\n",
       "      <td>E-commerce &amp; direct-to-consumer</td>\n",
       "      <td>Long Beach</td>\n",
       "      <td>United States</td>\n",
       "      <td>North America</td>\n",
       "      <td>2014</td>\n",
       "      <td>$620M</td>\n",
       "      <td>Novator Partners, True, Causeway Media Partners</td>\n",
       "    </tr>\n",
       "  </tbody>\n",
       "</table>\n",
       "<p>1074 rows × 10 columns</p>\n",
       "</div>"
      ],
      "text/plain": [
       "          Company Valuation Date Joined                         Industry  \\\n",
       "0       Bytedance     $180B  2017-04-07          Artificial intelligence   \n",
       "1          SpaceX     $100B  2012-12-01                            Other   \n",
       "2           SHEIN     $100B  2018-07-03  E-commerce & direct-to-consumer   \n",
       "3          Stripe      $95B  2014-01-23                          Fintech   \n",
       "4          Klarna      $46B  2011-12-12                          Fintech   \n",
       "...           ...       ...         ...                              ...   \n",
       "1069     Zhaogang       $1B  2017-06-29  E-commerce & direct-to-consumer   \n",
       "1070  Zhuan Zhuan       $1B  2017-04-18  E-commerce & direct-to-consumer   \n",
       "1071     Zihaiguo       $1B  2021-05-06                Consumer & retail   \n",
       "1072         Zopa       $1B  2021-10-19                          Fintech   \n",
       "1073        Zwift       $1B  2020-09-16  E-commerce & direct-to-consumer   \n",
       "\n",
       "               City         Country      Continent  Year Founded Funding  \\\n",
       "0           Beijing           China           Asia          2012     $8B   \n",
       "1         Hawthorne   United States  North America          2002     $7B   \n",
       "2          Shenzhen           China           Asia          2008     $2B   \n",
       "3     San Francisco   United States  North America          2010     $2B   \n",
       "4         Stockholm          Sweden         Europe          2005     $4B   \n",
       "...             ...             ...            ...           ...     ...   \n",
       "1069       Shanghai           China           Asia          2012   $379M   \n",
       "1070        Beijing           China           Asia          2015   $990M   \n",
       "1071      Chongqing           China           Asia          2018    $80M   \n",
       "1072         London  United Kingdom         Europe          2005   $792M   \n",
       "1073     Long Beach   United States  North America          2014   $620M   \n",
       "\n",
       "                                       Select Investors  \n",
       "0     Sequoia Capital China, SIG Asia Investments, S...  \n",
       "1     Founders Fund, Draper Fisher Jurvetson, Rothen...  \n",
       "2     Tiger Global Management, Sequoia Capital China...  \n",
       "3           Khosla Ventures, LowercaseCapital, capitalG  \n",
       "4     Institutional Venture Partners, Sequoia Capita...  \n",
       "...                                                 ...  \n",
       "1069    K2 Ventures, Matrix Partners China, IDG Capital  \n",
       "1070                           58.com, Tencent Holdings  \n",
       "1071  Xingwang Investment Management, China Capital ...  \n",
       "1072  IAG Capital Partners, Augmentum Fintech, North...  \n",
       "1073    Novator Partners, True, Causeway Media Partners  \n",
       "\n",
       "[1074 rows x 10 columns]"
      ]
     },
     "execution_count": 2,
     "metadata": {},
     "output_type": "execute_result"
    }
   ],
   "source": [
    "## load the data\n",
    "data = pd.read_csv('Unicorn_Companies.csv',\n",
    "                  delimiter = \n",
    "                  \",\")\n",
    "data"
   ]
  },
  {
   "cell_type": "code",
   "execution_count": 3,
   "id": "52bcbf86",
   "metadata": {},
   "outputs": [],
   "source": [
    "## make a copy of the data\n",
    "df = data.copy()"
   ]
  },
  {
   "cell_type": "code",
   "execution_count": 4,
   "id": "cc9a964b",
   "metadata": {
    "scrolled": true
   },
   "outputs": [
    {
     "data": {
      "text/html": [
       "<div>\n",
       "<style scoped>\n",
       "    .dataframe tbody tr th:only-of-type {\n",
       "        vertical-align: middle;\n",
       "    }\n",
       "\n",
       "    .dataframe tbody tr th {\n",
       "        vertical-align: top;\n",
       "    }\n",
       "\n",
       "    .dataframe thead th {\n",
       "        text-align: right;\n",
       "    }\n",
       "</style>\n",
       "<table border=\"1\" class=\"dataframe\">\n",
       "  <thead>\n",
       "    <tr style=\"text-align: right;\">\n",
       "      <th></th>\n",
       "      <th>Year Founded</th>\n",
       "    </tr>\n",
       "  </thead>\n",
       "  <tbody>\n",
       "    <tr>\n",
       "      <th>count</th>\n",
       "      <td>1074.000000</td>\n",
       "    </tr>\n",
       "    <tr>\n",
       "      <th>mean</th>\n",
       "      <td>2012.895717</td>\n",
       "    </tr>\n",
       "    <tr>\n",
       "      <th>std</th>\n",
       "      <td>5.698573</td>\n",
       "    </tr>\n",
       "    <tr>\n",
       "      <th>min</th>\n",
       "      <td>1919.000000</td>\n",
       "    </tr>\n",
       "    <tr>\n",
       "      <th>25%</th>\n",
       "      <td>2011.000000</td>\n",
       "    </tr>\n",
       "    <tr>\n",
       "      <th>50%</th>\n",
       "      <td>2014.000000</td>\n",
       "    </tr>\n",
       "    <tr>\n",
       "      <th>75%</th>\n",
       "      <td>2016.000000</td>\n",
       "    </tr>\n",
       "    <tr>\n",
       "      <th>max</th>\n",
       "      <td>2021.000000</td>\n",
       "    </tr>\n",
       "  </tbody>\n",
       "</table>\n",
       "</div>"
      ],
      "text/plain": [
       "       Year Founded\n",
       "count   1074.000000\n",
       "mean    2012.895717\n",
       "std        5.698573\n",
       "min     1919.000000\n",
       "25%     2011.000000\n",
       "50%     2014.000000\n",
       "75%     2016.000000\n",
       "max     2021.000000"
      ]
     },
     "execution_count": 4,
     "metadata": {},
     "output_type": "execute_result"
    }
   ],
   "source": [
    "df.describe()"
   ]
  },
  {
   "cell_type": "code",
   "execution_count": 5,
   "id": "dacc9408",
   "metadata": {},
   "outputs": [],
   "source": [
    "#pd.options.display.max_columns = None\n",
    "#pd.options.display.max_rows = None"
   ]
  },
  {
   "cell_type": "code",
   "execution_count": 6,
   "id": "3a52bce4",
   "metadata": {},
   "outputs": [
    {
     "data": {
      "text/plain": [
       "Index(['Company', 'Valuation', 'Date Joined', 'Industry', 'City', 'Country',\n",
       "       'Continent', 'Year Founded', 'Funding', 'Select Investors'],\n",
       "      dtype='object')"
      ]
     },
     "execution_count": 6,
     "metadata": {},
     "output_type": "execute_result"
    }
   ],
   "source": [
    "df.columns"
   ]
  },
  {
   "cell_type": "code",
   "execution_count": 7,
   "id": "744a286e",
   "metadata": {
    "scrolled": true
   },
   "outputs": [
    {
     "data": {
      "text/plain": [
       "Company        Valuation  Date Joined  Industry                      City           Country        Continent      Year Founded  Funding  Select Investors                                           \n",
       "1047 Games     $2B        2021-09-14   Internet software & services  Zephyr Cove    United States  North America  2017          $127M    VGames, Lakestar, Galaxy Interactive                           1\n",
       "PolicyBazaar   $2B        2019-05-06   Fintech                       Gurgaon        India          Asia           2008          $634M    Info Edge, Softbank Capital                                    1\n",
       "Phenom People  $1B        2021-04-07   Internet software & services  Ambler         United States  North America  2011          $163M    Sierra Ventures, AXA Venture Partners, Sigma Prime Ventures    1\n",
       "PicsArt        $1B        2021-08-26   Mobile & telecommunications   San Francisco  United States  North America  2011          $195M    Sequoia Capital, DCM Ventures, Insight Partners                1\n",
       "Pilot.com      $1B        2021-03-26   Fintech                       San Francisco  United States  North America  2016          $161M    Index Ventures, Sequoia Capital, Bezos Expeditions             1\n",
       "                                                                                                                                                                                                       ..\n",
       "Gem            $1B        2021-09-28   Internet software & services  San Francisco  United States  North America  2017          $148M    Accel, Greylock Partners, Meritech Capital Partners            1\n",
       "Gemini         $7B        2021-11-19   Fintech                       New York       United States  North America  2015          $424M    Morgan Creek Digital, Marcy Venture Partners, 10T Fund         1\n",
       "Genki Forest   $15B       2020-03-01   Consumer & retail             Beijing        China          Asia           2016          $721M    Sequoia Capital China, Longfor Capitalm, Gaorong Capital       1\n",
       "GetYourGuide   $1B        2019-05-16   Travel                        Berlin         Germany        Europe         2009          $656M    Spark Capital, Highland Europe, Sunstone Capital               1\n",
       "wefox          $3B        2019-03-05   Fintech                       Berlin         Germany        Europe         2014          $919M    Salesforce Ventures, Seedcamp, OMERS Ventures                  1\n",
       "Name: count, Length: 1057, dtype: int64"
      ]
     },
     "execution_count": 7,
     "metadata": {},
     "output_type": "execute_result"
    }
   ],
   "source": [
    "df.value_counts()"
   ]
  },
  {
   "cell_type": "code",
   "execution_count": 8,
   "id": "10e4d7e2",
   "metadata": {},
   "outputs": [
    {
     "name": "stdout",
     "output_type": "stream",
     "text": [
      "<class 'pandas.core.frame.DataFrame'>\n",
      "RangeIndex: 1074 entries, 0 to 1073\n",
      "Data columns (total 10 columns):\n",
      " #   Column            Non-Null Count  Dtype \n",
      "---  ------            --------------  ----- \n",
      " 0   Company           1074 non-null   object\n",
      " 1   Valuation         1074 non-null   object\n",
      " 2   Date Joined       1074 non-null   object\n",
      " 3   Industry          1074 non-null   object\n",
      " 4   City              1058 non-null   object\n",
      " 5   Country           1074 non-null   object\n",
      " 6   Continent         1074 non-null   object\n",
      " 7   Year Founded      1074 non-null   int64 \n",
      " 8   Funding           1074 non-null   object\n",
      " 9   Select Investors  1073 non-null   object\n",
      "dtypes: int64(1), object(9)\n",
      "memory usage: 84.0+ KB\n"
     ]
    }
   ],
   "source": [
    "df.info() "
   ]
  },
  {
   "cell_type": "code",
   "execution_count": 9,
   "id": "fe583df2",
   "metadata": {},
   "outputs": [
    {
     "data": {
      "text/plain": [
       "Company              0\n",
       "Valuation            0\n",
       "Date Joined          0\n",
       "Industry             0\n",
       "City                16\n",
       "Country              0\n",
       "Continent            0\n",
       "Year Founded         0\n",
       "Funding              0\n",
       "Select Investors     1\n",
       "dtype: int64"
      ]
     },
     "execution_count": 9,
     "metadata": {},
     "output_type": "execute_result"
    }
   ],
   "source": [
    "## Check for Null Values\n",
    "df.isna().sum()"
   ]
  },
  {
   "cell_type": "code",
   "execution_count": 10,
   "id": "9ff501c8",
   "metadata": {
    "scrolled": true
   },
   "outputs": [
    {
     "data": {
      "image/png": "[encoded data removed]",
      "text/plain": [
       "<Figure size 1200x600 with 2 Axes>"
      ]
     },
     "metadata": {},
     "output_type": "display_data"
    }
   ],
   "source": [
    "plt.figure(figsize =(12,6))\n",
    "sns.heatmap(df.isnull(),cbar= True, cmap=\"cool\")\n",
    "plt.show()"
   ]
  },
  {
   "cell_type": "markdown",
   "id": "86bafbef",
   "metadata": {},
   "source": [
    " there are 16 na values in the city column and 1 in the select investor column\n"
   ]
  },
  {
   "cell_type": "markdown",
   "id": "4fa77eeb",
   "metadata": {},
   "source": [
    "## 2. Data Cleaning and Preprocessing"
   ]
  },
  {
   "cell_type": "code",
   "execution_count": 11,
   "id": "44a420e8",
   "metadata": {},
   "outputs": [
    {
     "data": {
      "text/plain": [
       "Company\n",
       "Bolt               2\n",
       "Bytedance          1\n",
       "Yidian Zixun       1\n",
       "Klook              1\n",
       "Epirus             1\n",
       "                  ..\n",
       "eDaili             1\n",
       "ENOVATE            1\n",
       "Fenbi Education    1\n",
       "Hesai Tech         1\n",
       "Zwift              1\n",
       "Name: count, Length: 1073, dtype: int64"
      ]
     },
     "execution_count": 11,
     "metadata": {},
     "output_type": "execute_result"
    }
   ],
   "source": [
    "# Lets look through the data column by column starting with company\n",
    "df['Company'].value_counts()"
   ]
  },
  {
   "cell_type": "code",
   "execution_count": 12,
   "id": "0ddf3649",
   "metadata": {},
   "outputs": [],
   "source": [
    "## we notice that there are two Bolt Cpmpanies, lets look into that\n",
    "bolt_df = df[df['Company'] == \"Bolt\"] "
   ]
  },
  {
   "cell_type": "code",
   "execution_count": 13,
   "id": "607ae8db",
   "metadata": {
    "scrolled": true
   },
   "outputs": [
    {
     "data": {
      "text/html": [
       "<div>\n",
       "<style scoped>\n",
       "    .dataframe tbody tr th:only-of-type {\n",
       "        vertical-align: middle;\n",
       "    }\n",
       "\n",
       "    .dataframe tbody tr th {\n",
       "        vertical-align: top;\n",
       "    }\n",
       "\n",
       "    .dataframe thead th {\n",
       "        text-align: right;\n",
       "    }\n",
       "</style>\n",
       "<table border=\"1\" class=\"dataframe\">\n",
       "  <thead>\n",
       "    <tr style=\"text-align: right;\">\n",
       "      <th></th>\n",
       "      <th>Company</th>\n",
       "      <th>Valuation</th>\n",
       "      <th>Date Joined</th>\n",
       "      <th>Industry</th>\n",
       "      <th>City</th>\n",
       "      <th>Country</th>\n",
       "      <th>Continent</th>\n",
       "      <th>Year Founded</th>\n",
       "      <th>Funding</th>\n",
       "      <th>Select Investors</th>\n",
       "    </tr>\n",
       "  </thead>\n",
       "  <tbody>\n",
       "    <tr>\n",
       "      <th>40</th>\n",
       "      <td>Bolt</td>\n",
       "      <td>$11B</td>\n",
       "      <td>2018-05-29</td>\n",
       "      <td>Auto &amp; transportation</td>\n",
       "      <td>Tallinn</td>\n",
       "      <td>Estonia</td>\n",
       "      <td>Europe</td>\n",
       "      <td>2013</td>\n",
       "      <td>$1B</td>\n",
       "      <td>Didi Chuxing, Diamler, TMT Investments</td>\n",
       "    </tr>\n",
       "    <tr>\n",
       "      <th>44</th>\n",
       "      <td>Bolt</td>\n",
       "      <td>$11B</td>\n",
       "      <td>2021-10-08</td>\n",
       "      <td>Fintech</td>\n",
       "      <td>San Francisco</td>\n",
       "      <td>United States</td>\n",
       "      <td>North America</td>\n",
       "      <td>2014</td>\n",
       "      <td>$1B</td>\n",
       "      <td>Activant Capital, Tribe Capital, General Atlantic</td>\n",
       "    </tr>\n",
       "  </tbody>\n",
       "</table>\n",
       "</div>"
      ],
      "text/plain": [
       "   Company Valuation Date Joined               Industry           City  \\\n",
       "40    Bolt      $11B  2018-05-29  Auto & transportation        Tallinn   \n",
       "44    Bolt      $11B  2021-10-08                Fintech  San Francisco   \n",
       "\n",
       "          Country      Continent  Year Founded Funding  \\\n",
       "40        Estonia         Europe          2013     $1B   \n",
       "44  United States  North America          2014     $1B   \n",
       "\n",
       "                                     Select Investors  \n",
       "40             Didi Chuxing, Diamler, TMT Investments  \n",
       "44  Activant Capital, Tribe Capital, General Atlantic  "
      ]
     },
     "execution_count": 13,
     "metadata": {},
     "output_type": "execute_result"
    }
   ],
   "source": [
    "bolt_df"
   ]
  },
  {
   "cell_type": "markdown",
   "id": "3e87c981",
   "metadata": {},
   "source": [
    " we can see the bolt companies are seperate companies"
   ]
  },
  {
   "cell_type": "code",
   "execution_count": 14,
   "id": "bde4a999",
   "metadata": {
    "scrolled": true
   },
   "outputs": [
    {
     "data": {
      "text/html": [
       "<div>\n",
       "<style scoped>\n",
       "    .dataframe tbody tr th:only-of-type {\n",
       "        vertical-align: middle;\n",
       "    }\n",
       "\n",
       "    .dataframe tbody tr th {\n",
       "        vertical-align: top;\n",
       "    }\n",
       "\n",
       "    .dataframe thead th {\n",
       "        text-align: right;\n",
       "    }\n",
       "</style>\n",
       "<table border=\"1\" class=\"dataframe\">\n",
       "  <thead>\n",
       "    <tr style=\"text-align: right;\">\n",
       "      <th></th>\n",
       "      <th>Company</th>\n",
       "      <th>Valuation</th>\n",
       "      <th>Date Joined</th>\n",
       "      <th>Industry</th>\n",
       "      <th>City</th>\n",
       "      <th>Country</th>\n",
       "      <th>Continent</th>\n",
       "      <th>Year Founded</th>\n",
       "      <th>Funding</th>\n",
       "      <th>Select Investors</th>\n",
       "    </tr>\n",
       "  </thead>\n",
       "  <tbody>\n",
       "    <tr>\n",
       "      <th>0</th>\n",
       "      <td>Bytedance</td>\n",
       "      <td>$180B</td>\n",
       "      <td>2017-04-07</td>\n",
       "      <td>Artificial intelligence</td>\n",
       "      <td>Beijing</td>\n",
       "      <td>China</td>\n",
       "      <td>Asia</td>\n",
       "      <td>2012</td>\n",
       "      <td>$8B</td>\n",
       "      <td>Sequoia Capital China, SIG Asia Investments, S...</td>\n",
       "    </tr>\n",
       "    <tr>\n",
       "      <th>1</th>\n",
       "      <td>SpaceX</td>\n",
       "      <td>$100B</td>\n",
       "      <td>2012-12-01</td>\n",
       "      <td>Other</td>\n",
       "      <td>Hawthorne</td>\n",
       "      <td>United States</td>\n",
       "      <td>North America</td>\n",
       "      <td>2002</td>\n",
       "      <td>$7B</td>\n",
       "      <td>Founders Fund, Draper Fisher Jurvetson, Rothen...</td>\n",
       "    </tr>\n",
       "    <tr>\n",
       "      <th>2</th>\n",
       "      <td>SHEIN</td>\n",
       "      <td>$100B</td>\n",
       "      <td>2018-07-03</td>\n",
       "      <td>E-commerce &amp; direct-to-consumer</td>\n",
       "      <td>Shenzhen</td>\n",
       "      <td>China</td>\n",
       "      <td>Asia</td>\n",
       "      <td>2008</td>\n",
       "      <td>$2B</td>\n",
       "      <td>Tiger Global Management, Sequoia Capital China...</td>\n",
       "    </tr>\n",
       "    <tr>\n",
       "      <th>3</th>\n",
       "      <td>Stripe</td>\n",
       "      <td>$95B</td>\n",
       "      <td>2014-01-23</td>\n",
       "      <td>Fintech</td>\n",
       "      <td>San Francisco</td>\n",
       "      <td>United States</td>\n",
       "      <td>North America</td>\n",
       "      <td>2010</td>\n",
       "      <td>$2B</td>\n",
       "      <td>Khosla Ventures, LowercaseCapital, capitalG</td>\n",
       "    </tr>\n",
       "    <tr>\n",
       "      <th>4</th>\n",
       "      <td>Klarna</td>\n",
       "      <td>$46B</td>\n",
       "      <td>2011-12-12</td>\n",
       "      <td>Fintech</td>\n",
       "      <td>Stockholm</td>\n",
       "      <td>Sweden</td>\n",
       "      <td>Europe</td>\n",
       "      <td>2005</td>\n",
       "      <td>$4B</td>\n",
       "      <td>Institutional Venture Partners, Sequoia Capita...</td>\n",
       "    </tr>\n",
       "    <tr>\n",
       "      <th>...</th>\n",
       "      <td>...</td>\n",
       "      <td>...</td>\n",
       "      <td>...</td>\n",
       "      <td>...</td>\n",
       "      <td>...</td>\n",
       "      <td>...</td>\n",
       "      <td>...</td>\n",
       "      <td>...</td>\n",
       "      <td>...</td>\n",
       "      <td>...</td>\n",
       "    </tr>\n",
       "    <tr>\n",
       "      <th>1069</th>\n",
       "      <td>Zhaogang</td>\n",
       "      <td>$1B</td>\n",
       "      <td>2017-06-29</td>\n",
       "      <td>E-commerce &amp; direct-to-consumer</td>\n",
       "      <td>Shanghai</td>\n",
       "      <td>China</td>\n",
       "      <td>Asia</td>\n",
       "      <td>2012</td>\n",
       "      <td>$379M</td>\n",
       "      <td>K2 Ventures, Matrix Partners China, IDG Capital</td>\n",
       "    </tr>\n",
       "    <tr>\n",
       "      <th>1070</th>\n",
       "      <td>Zhuan Zhuan</td>\n",
       "      <td>$1B</td>\n",
       "      <td>2017-04-18</td>\n",
       "      <td>E-commerce &amp; direct-to-consumer</td>\n",
       "      <td>Beijing</td>\n",
       "      <td>China</td>\n",
       "      <td>Asia</td>\n",
       "      <td>2015</td>\n",
       "      <td>$990M</td>\n",
       "      <td>58.com, Tencent Holdings</td>\n",
       "    </tr>\n",
       "    <tr>\n",
       "      <th>1071</th>\n",
       "      <td>Zihaiguo</td>\n",
       "      <td>$1B</td>\n",
       "      <td>2021-05-06</td>\n",
       "      <td>Consumer &amp; retail</td>\n",
       "      <td>Chongqing</td>\n",
       "      <td>China</td>\n",
       "      <td>Asia</td>\n",
       "      <td>2018</td>\n",
       "      <td>$80M</td>\n",
       "      <td>Xingwang Investment Management, China Capital ...</td>\n",
       "    </tr>\n",
       "    <tr>\n",
       "      <th>1072</th>\n",
       "      <td>Zopa</td>\n",
       "      <td>$1B</td>\n",
       "      <td>2021-10-19</td>\n",
       "      <td>Fintech</td>\n",
       "      <td>London</td>\n",
       "      <td>United Kingdom</td>\n",
       "      <td>Europe</td>\n",
       "      <td>2005</td>\n",
       "      <td>$792M</td>\n",
       "      <td>IAG Capital Partners, Augmentum Fintech, North...</td>\n",
       "    </tr>\n",
       "    <tr>\n",
       "      <th>1073</th>\n",
       "      <td>Zwift</td>\n",
       "      <td>$1B</td>\n",
       "      <td>2020-09-16</td>\n",
       "      <td>E-commerce &amp; direct-to-consumer</td>\n",
       "      <td>Long Beach</td>\n",
       "      <td>United States</td>\n",
       "      <td>North America</td>\n",
       "      <td>2014</td>\n",
       "      <td>$620M</td>\n",
       "      <td>Novator Partners, True, Causeway Media Partners</td>\n",
       "    </tr>\n",
       "  </tbody>\n",
       "</table>\n",
       "<p>1074 rows × 10 columns</p>\n",
       "</div>"
      ],
      "text/plain": [
       "          Company Valuation Date Joined                         Industry  \\\n",
       "0       Bytedance     $180B  2017-04-07          Artificial intelligence   \n",
       "1          SpaceX     $100B  2012-12-01                            Other   \n",
       "2           SHEIN     $100B  2018-07-03  E-commerce & direct-to-consumer   \n",
       "3          Stripe      $95B  2014-01-23                          Fintech   \n",
       "4          Klarna      $46B  2011-12-12                          Fintech   \n",
       "...           ...       ...         ...                              ...   \n",
       "1069     Zhaogang       $1B  2017-06-29  E-commerce & direct-to-consumer   \n",
       "1070  Zhuan Zhuan       $1B  2017-04-18  E-commerce & direct-to-consumer   \n",
       "1071     Zihaiguo       $1B  2021-05-06                Consumer & retail   \n",
       "1072         Zopa       $1B  2021-10-19                          Fintech   \n",
       "1073        Zwift       $1B  2020-09-16  E-commerce & direct-to-consumer   \n",
       "\n",
       "               City         Country      Continent  Year Founded Funding  \\\n",
       "0           Beijing           China           Asia          2012     $8B   \n",
       "1         Hawthorne   United States  North America          2002     $7B   \n",
       "2          Shenzhen           China           Asia          2008     $2B   \n",
       "3     San Francisco   United States  North America          2010     $2B   \n",
       "4         Stockholm          Sweden         Europe          2005     $4B   \n",
       "...             ...             ...            ...           ...     ...   \n",
       "1069       Shanghai           China           Asia          2012   $379M   \n",
       "1070        Beijing           China           Asia          2015   $990M   \n",
       "1071      Chongqing           China           Asia          2018    $80M   \n",
       "1072         London  United Kingdom         Europe          2005   $792M   \n",
       "1073     Long Beach   United States  North America          2014   $620M   \n",
       "\n",
       "                                       Select Investors  \n",
       "0     Sequoia Capital China, SIG Asia Investments, S...  \n",
       "1     Founders Fund, Draper Fisher Jurvetson, Rothen...  \n",
       "2     Tiger Global Management, Sequoia Capital China...  \n",
       "3           Khosla Ventures, LowercaseCapital, capitalG  \n",
       "4     Institutional Venture Partners, Sequoia Capita...  \n",
       "...                                                 ...  \n",
       "1069    K2 Ventures, Matrix Partners China, IDG Capital  \n",
       "1070                           58.com, Tencent Holdings  \n",
       "1071  Xingwang Investment Management, China Capital ...  \n",
       "1072  IAG Capital Partners, Augmentum Fintech, North...  \n",
       "1073    Novator Partners, True, Causeway Media Partners  \n",
       "\n",
       "[1074 rows x 10 columns]"
      ]
     },
     "execution_count": 14,
     "metadata": {},
     "output_type": "execute_result"
    }
   ],
   "source": [
    "## Eyeball the data again\n",
    "df"
   ]
  },
  {
   "cell_type": "code",
   "execution_count": 15,
   "id": "893505c7",
   "metadata": {},
   "outputs": [],
   "source": [
    "## There are some companies with '.com' in there names, lets remove that\n",
    "df['Company'] = df['Company'].astype(str).replace(\".com\",\"\" ,regex = True)"
   ]
  },
  {
   "cell_type": "code",
   "execution_count": 16,
   "id": "968aef7b",
   "metadata": {},
   "outputs": [],
   "source": [
    "## We would also remove the Currency($) as well asthe \"B\" and \"M\" in the the valuation column and change the data type to intergers\n",
    "df['Valuation'] = df['Valuation'].astype(str).replace('([^\\w/-])','', regex = True).replace(\"B\",\"\" ,regex = True).astype(int)"
   ]
  },
  {
   "cell_type": "code",
   "execution_count": 17,
   "id": "50cc56ad",
   "metadata": {},
   "outputs": [
    {
     "data": {
      "text/plain": [
       "0       180\n",
       "1       100\n",
       "2       100\n",
       "3        95\n",
       "4        46\n",
       "       ... \n",
       "1069      1\n",
       "1070      1\n",
       "1071      1\n",
       "1072      1\n",
       "1073      1\n",
       "Name: Valuation, Length: 1074, dtype: int32"
      ]
     },
     "execution_count": 17,
     "metadata": {},
     "output_type": "execute_result"
    }
   ],
   "source": [
    "df['Valuation']"
   ]
  },
  {
   "cell_type": "code",
   "execution_count": 18,
   "id": "f6bcf960",
   "metadata": {},
   "outputs": [],
   "source": [
    "df = df.rename(columns={'Valuation': 'Valuation ($B)'})"
   ]
  },
  {
   "cell_type": "code",
   "execution_count": 19,
   "id": "ba122558",
   "metadata": {},
   "outputs": [
    {
     "data": {
      "text/plain": [
       "0       2017-04-07\n",
       "1       2012-12-01\n",
       "2       2018-07-03\n",
       "3       2014-01-23\n",
       "4       2011-12-12\n",
       "           ...    \n",
       "1069    2017-06-29\n",
       "1070    2017-04-18\n",
       "1071    2021-05-06\n",
       "1072    2021-10-19\n",
       "1073    2020-09-16\n",
       "Name: Date Joined, Length: 1074, dtype: object"
      ]
     },
     "execution_count": 19,
     "metadata": {},
     "output_type": "execute_result"
    }
   ],
   "source": [
    "## lets look at the Date column \n",
    "df[\"Date Joined\"]"
   ]
  },
  {
   "cell_type": "code",
   "execution_count": 20,
   "id": "828d371d",
   "metadata": {},
   "outputs": [],
   "source": [
    "# First, ensure the 'Date Joined' column is in datetime format\n",
    "df['Date Joined'] = pd.to_datetime(df['Date Joined'])\n",
    "\n",
    "# Then, extract only the year\n",
    "df['Year Joined'] = df['Date Joined'].dt.year"
   ]
  },
  {
   "cell_type": "code",
   "execution_count": 21,
   "id": "291f84c4",
   "metadata": {},
   "outputs": [
    {
     "data": {
      "text/plain": [
       "Industry\n",
       "Fintech                                224\n",
       "Internet software & services           205\n",
       "E-commerce & direct-to-consumer        111\n",
       "Health                                  74\n",
       "Artificial intelligence                 73\n",
       "Other                                   58\n",
       "Supply chain, logistics, & delivery     57\n",
       "Cybersecurity                           50\n",
       "Data management & analytics             41\n",
       "Mobile & telecommunications             38\n",
       "Hardware                                34\n",
       "Auto & transportation                   31\n",
       "Edtech                                  28\n",
       "Consumer & retail                       25\n",
       "Travel                                  14\n",
       "Artificial Intelligence                 11\n",
       "Name: count, dtype: int64"
      ]
     },
     "execution_count": 21,
     "metadata": {},
     "output_type": "execute_result"
    }
   ],
   "source": [
    "## lets look at the Industry Column\n",
    "df['Industry'].value_counts()"
   ]
  },
  {
   "cell_type": "markdown",
   "id": "d04dae6f",
   "metadata": {},
   "source": [
    "The data reveals that Fintech and Internet software & services are the two dominant industries among the listed companies, with 224 and 205 companies respectively. This indicates a strong prevalence of financial technology and software-based solutions.\n",
    "\n",
    "E-commerce & direct-to-consumer also stands out with 111 companies, showcasing the significant growth and presence of online retail. Health and Artificial intelligence are also notable sectors, with 74 and 73 companies respectively (including the separate \"Artificial Intelligence\" category with 11 companies, totaling 84 for AI if combined). This suggests a strong focus on innovation in healthcare and AI-driven solutions.\n",
    "\n",
    "Other industries like Supply chain, logistics, & delivery (57) and Cybersecurity (50) also have a substantial presence, highlighting their importance in the current economic landscape. Conversely, industries such as Travel (14), Consumer & retail (25), and Edtech (28) appear to have a smaller representation in this dataset"
   ]
  },
  {
   "cell_type": "code",
   "execution_count": 22,
   "id": "e35652df",
   "metadata": {},
   "outputs": [
    {
     "data": {
      "text/plain": [
       "0               Artificial intelligence\n",
       "1                                 Other\n",
       "2       E-commerce & direct-to-consumer\n",
       "3                               Fintech\n",
       "4                               Fintech\n",
       "                     ...               \n",
       "1069    E-commerce & direct-to-consumer\n",
       "1070    E-commerce & direct-to-consumer\n",
       "1071                  Consumer & retail\n",
       "1072                            Fintech\n",
       "1073    E-commerce & direct-to-consumer\n",
       "Name: Industry, Length: 1074, dtype: object"
      ]
     },
     "execution_count": 22,
     "metadata": {},
     "output_type": "execute_result"
    }
   ],
   "source": [
    "df[\"Industry\"]"
   ]
  },
  {
   "cell_type": "code",
   "execution_count": 23,
   "id": "4591b882",
   "metadata": {},
   "outputs": [],
   "source": [
    "## Remember we encountered 16 missing values in the city column earlier. lets look that the rows with these missing values\n",
    "missing_city_df = df[df['City'].isnull()]"
   ]
  },
  {
   "cell_type": "code",
   "execution_count": 24,
   "id": "f7415b74",
   "metadata": {
    "scrolled": true
   },
   "outputs": [
    {
     "data": {
      "text/html": [
       "<div>\n",
       "<style scoped>\n",
       "    .dataframe tbody tr th:only-of-type {\n",
       "        vertical-align: middle;\n",
       "    }\n",
       "\n",
       "    .dataframe tbody tr th {\n",
       "        vertical-align: top;\n",
       "    }\n",
       "\n",
       "    .dataframe thead th {\n",
       "        text-align: right;\n",
       "    }\n",
       "</style>\n",
       "<table border=\"1\" class=\"dataframe\">\n",
       "  <thead>\n",
       "    <tr style=\"text-align: right;\">\n",
       "      <th></th>\n",
       "      <th>Company</th>\n",
       "      <th>Valuation ($B)</th>\n",
       "      <th>Date Joined</th>\n",
       "      <th>Industry</th>\n",
       "      <th>City</th>\n",
       "      <th>Country</th>\n",
       "      <th>Continent</th>\n",
       "      <th>Year Founded</th>\n",
       "      <th>Funding</th>\n",
       "      <th>Select Investors</th>\n",
       "      <th>Year Joined</th>\n",
       "    </tr>\n",
       "  </thead>\n",
       "  <tbody>\n",
       "    <tr>\n",
       "      <th>12</th>\n",
       "      <td>FTX</td>\n",
       "      <td>32</td>\n",
       "      <td>2021-07-20</td>\n",
       "      <td>Fintech</td>\n",
       "      <td>NaN</td>\n",
       "      <td>Bahamas</td>\n",
       "      <td>North America</td>\n",
       "      <td>2018</td>\n",
       "      <td>$2B</td>\n",
       "      <td>Sequoia Capital, Thoma Bravo, Softbank</td>\n",
       "      <td>2021</td>\n",
       "    </tr>\n",
       "    <tr>\n",
       "      <th>170</th>\n",
       "      <td>HyalRoute</td>\n",
       "      <td>4</td>\n",
       "      <td>2020-05-26</td>\n",
       "      <td>Mobile &amp; telecommunications</td>\n",
       "      <td>NaN</td>\n",
       "      <td>Singapore</td>\n",
       "      <td>Asia</td>\n",
       "      <td>2015</td>\n",
       "      <td>$263M</td>\n",
       "      <td>Kuang-Chi</td>\n",
       "      <td>2020</td>\n",
       "    </tr>\n",
       "    <tr>\n",
       "      <th>242</th>\n",
       "      <td>Moglix</td>\n",
       "      <td>3</td>\n",
       "      <td>2021-05-17</td>\n",
       "      <td>E-commerce &amp; direct-to-consumer</td>\n",
       "      <td>NaN</td>\n",
       "      <td>Singapore</td>\n",
       "      <td>Asia</td>\n",
       "      <td>2015</td>\n",
       "      <td>$471M</td>\n",
       "      <td>Jungle Ventures, Accel, Venture Highway</td>\n",
       "      <td>2021</td>\n",
       "    </tr>\n",
       "    <tr>\n",
       "      <th>251</th>\n",
       "      <td>Trax</td>\n",
       "      <td>3</td>\n",
       "      <td>2019-07-22</td>\n",
       "      <td>Artificial intelligence</td>\n",
       "      <td>NaN</td>\n",
       "      <td>Singapore</td>\n",
       "      <td>Asia</td>\n",
       "      <td>2010</td>\n",
       "      <td>$1B</td>\n",
       "      <td>Hopu Investment Management, Boyu Capital, DC T...</td>\n",
       "      <td>2019</td>\n",
       "    </tr>\n",
       "    <tr>\n",
       "      <th>325</th>\n",
       "      <td>Amber Group</td>\n",
       "      <td>3</td>\n",
       "      <td>2021-06-21</td>\n",
       "      <td>Fintech</td>\n",
       "      <td>NaN</td>\n",
       "      <td>Hong Kong</td>\n",
       "      <td>Asia</td>\n",
       "      <td>2015</td>\n",
       "      <td>$328M</td>\n",
       "      <td>Tiger Global Management, Tiger Brokers, DCM Ve...</td>\n",
       "      <td>2021</td>\n",
       "    </tr>\n",
       "    <tr>\n",
       "      <th>382</th>\n",
       "      <td>Ninja Van</td>\n",
       "      <td>2</td>\n",
       "      <td>2021-09-27</td>\n",
       "      <td>Supply chain, logistics, &amp; delivery</td>\n",
       "      <td>NaN</td>\n",
       "      <td>Singapore</td>\n",
       "      <td>Asia</td>\n",
       "      <td>2014</td>\n",
       "      <td>$975M</td>\n",
       "      <td>B Capital Group, Monk's Hill Ventures, Dynamic...</td>\n",
       "      <td>2021</td>\n",
       "    </tr>\n",
       "    <tr>\n",
       "      <th>541</th>\n",
       "      <td>Advance Intelligence Group</td>\n",
       "      <td>2</td>\n",
       "      <td>2021-09-23</td>\n",
       "      <td>Artificial intelligence</td>\n",
       "      <td>NaN</td>\n",
       "      <td>Singapore</td>\n",
       "      <td>Asia</td>\n",
       "      <td>2016</td>\n",
       "      <td>$536M</td>\n",
       "      <td>Vision Plus Capital, GSR Ventures, ZhenFund</td>\n",
       "      <td>2021</td>\n",
       "    </tr>\n",
       "    <tr>\n",
       "      <th>811</th>\n",
       "      <td>Carousell</td>\n",
       "      <td>1</td>\n",
       "      <td>2021-09-15</td>\n",
       "      <td>E-commerce &amp; direct-to-consumer</td>\n",
       "      <td>NaN</td>\n",
       "      <td>Singapore</td>\n",
       "      <td>Asia</td>\n",
       "      <td>2012</td>\n",
       "      <td>$288M</td>\n",
       "      <td>500 Global, Rakuten Ventures, Golden Gate Vent...</td>\n",
       "      <td>2021</td>\n",
       "    </tr>\n",
       "    <tr>\n",
       "      <th>848</th>\n",
       "      <td>Matrixport</td>\n",
       "      <td>1</td>\n",
       "      <td>2021-06-01</td>\n",
       "      <td>Fintech</td>\n",
       "      <td>NaN</td>\n",
       "      <td>Singapore</td>\n",
       "      <td>Asia</td>\n",
       "      <td>2019</td>\n",
       "      <td>$100M</td>\n",
       "      <td>Dragonfly Captial, Qiming Venture Partners, DS...</td>\n",
       "      <td>2021</td>\n",
       "    </tr>\n",
       "    <tr>\n",
       "      <th>880</th>\n",
       "      <td>bolttech</td>\n",
       "      <td>1</td>\n",
       "      <td>2021-07-01</td>\n",
       "      <td>Fintech</td>\n",
       "      <td>NaN</td>\n",
       "      <td>Singapore</td>\n",
       "      <td>Asia</td>\n",
       "      <td>2018</td>\n",
       "      <td>$210M</td>\n",
       "      <td>Mundi Ventures, Doqling Capital Partners, Acti...</td>\n",
       "      <td>2021</td>\n",
       "    </tr>\n",
       "    <tr>\n",
       "      <th>889</th>\n",
       "      <td>Carro</td>\n",
       "      <td>1</td>\n",
       "      <td>2021-06-14</td>\n",
       "      <td>E-commerce &amp; direct-to-consumer</td>\n",
       "      <td>NaN</td>\n",
       "      <td>Singapore</td>\n",
       "      <td>Asia</td>\n",
       "      <td>2015</td>\n",
       "      <td>$595M</td>\n",
       "      <td>SingTel Innov8, Alpha JWC Ventures, Golden Gat...</td>\n",
       "      <td>2021</td>\n",
       "    </tr>\n",
       "    <tr>\n",
       "      <th>893</th>\n",
       "      <td>Cider</td>\n",
       "      <td>1</td>\n",
       "      <td>2021-09-02</td>\n",
       "      <td>E-commerce &amp; direct-to-consumer</td>\n",
       "      <td>NaN</td>\n",
       "      <td>Hong Kong</td>\n",
       "      <td>Asia</td>\n",
       "      <td>2020</td>\n",
       "      <td>$140M</td>\n",
       "      <td>Andreessen Horowitz, DST Global, IDG Capital</td>\n",
       "      <td>2021</td>\n",
       "    </tr>\n",
       "    <tr>\n",
       "      <th>980</th>\n",
       "      <td>NIUM</td>\n",
       "      <td>1</td>\n",
       "      <td>2021-07-13</td>\n",
       "      <td>Fintech</td>\n",
       "      <td>NaN</td>\n",
       "      <td>Singapore</td>\n",
       "      <td>Asia</td>\n",
       "      <td>2014</td>\n",
       "      <td>$285M</td>\n",
       "      <td>Vertex Ventures SE Asia, Global Founders Capit...</td>\n",
       "      <td>2021</td>\n",
       "    </tr>\n",
       "    <tr>\n",
       "      <th>986</th>\n",
       "      <td>ONE</td>\n",
       "      <td>1</td>\n",
       "      <td>2021-12-08</td>\n",
       "      <td>Internet software &amp; services</td>\n",
       "      <td>NaN</td>\n",
       "      <td>Singapore</td>\n",
       "      <td>Asia</td>\n",
       "      <td>2011</td>\n",
       "      <td>$515M</td>\n",
       "      <td>Temasek, Guggenheim Investments, Qatar Investm...</td>\n",
       "      <td>2021</td>\n",
       "    </tr>\n",
       "    <tr>\n",
       "      <th>994</th>\n",
       "      <td>PatSnap</td>\n",
       "      <td>1</td>\n",
       "      <td>2021-03-16</td>\n",
       "      <td>Internet software &amp; services</td>\n",
       "      <td>NaN</td>\n",
       "      <td>Singapore</td>\n",
       "      <td>Asia</td>\n",
       "      <td>2007</td>\n",
       "      <td>$352M</td>\n",
       "      <td>Sequoia Capital China, Shunwei Capital Partner...</td>\n",
       "      <td>2021</td>\n",
       "    </tr>\n",
       "    <tr>\n",
       "      <th>1061</th>\n",
       "      <td>WeLab</td>\n",
       "      <td>1</td>\n",
       "      <td>2017-11-08</td>\n",
       "      <td>Fintech</td>\n",
       "      <td>NaN</td>\n",
       "      <td>Hong Kong</td>\n",
       "      <td>Asia</td>\n",
       "      <td>2013</td>\n",
       "      <td>$871M</td>\n",
       "      <td>Sequoia Capital China, ING, Alibaba Entreprene...</td>\n",
       "      <td>2017</td>\n",
       "    </tr>\n",
       "  </tbody>\n",
       "</table>\n",
       "</div>"
      ],
      "text/plain": [
       "                         Company  Valuation ($B) Date Joined  \\\n",
       "12                           FTX              32  2021-07-20   \n",
       "170                    HyalRoute               4  2020-05-26   \n",
       "242                       Moglix               3  2021-05-17   \n",
       "251                         Trax               3  2019-07-22   \n",
       "325                  Amber Group               3  2021-06-21   \n",
       "382                    Ninja Van               2  2021-09-27   \n",
       "541   Advance Intelligence Group               2  2021-09-23   \n",
       "811                    Carousell               1  2021-09-15   \n",
       "848                   Matrixport               1  2021-06-01   \n",
       "880                     bolttech               1  2021-07-01   \n",
       "889                        Carro               1  2021-06-14   \n",
       "893                        Cider               1  2021-09-02   \n",
       "980                         NIUM               1  2021-07-13   \n",
       "986                          ONE               1  2021-12-08   \n",
       "994                      PatSnap               1  2021-03-16   \n",
       "1061                       WeLab               1  2017-11-08   \n",
       "\n",
       "                                 Industry City    Country      Continent  \\\n",
       "12                                Fintech  NaN    Bahamas  North America   \n",
       "170           Mobile & telecommunications  NaN  Singapore           Asia   \n",
       "242       E-commerce & direct-to-consumer  NaN  Singapore           Asia   \n",
       "251               Artificial intelligence  NaN  Singapore           Asia   \n",
       "325                               Fintech  NaN  Hong Kong           Asia   \n",
       "382   Supply chain, logistics, & delivery  NaN  Singapore           Asia   \n",
       "541               Artificial intelligence  NaN  Singapore           Asia   \n",
       "811       E-commerce & direct-to-consumer  NaN  Singapore           Asia   \n",
       "848                               Fintech  NaN  Singapore           Asia   \n",
       "880                               Fintech  NaN  Singapore           Asia   \n",
       "889       E-commerce & direct-to-consumer  NaN  Singapore           Asia   \n",
       "893       E-commerce & direct-to-consumer  NaN  Hong Kong           Asia   \n",
       "980                               Fintech  NaN  Singapore           Asia   \n",
       "986          Internet software & services  NaN  Singapore           Asia   \n",
       "994          Internet software & services  NaN  Singapore           Asia   \n",
       "1061                              Fintech  NaN  Hong Kong           Asia   \n",
       "\n",
       "      Year Founded Funding                                   Select Investors  \\\n",
       "12            2018     $2B             Sequoia Capital, Thoma Bravo, Softbank   \n",
       "170           2015   $263M                                          Kuang-Chi   \n",
       "242           2015   $471M            Jungle Ventures, Accel, Venture Highway   \n",
       "251           2010     $1B  Hopu Investment Management, Boyu Capital, DC T...   \n",
       "325           2015   $328M  Tiger Global Management, Tiger Brokers, DCM Ve...   \n",
       "382           2014   $975M  B Capital Group, Monk's Hill Ventures, Dynamic...   \n",
       "541           2016   $536M        Vision Plus Capital, GSR Ventures, ZhenFund   \n",
       "811           2012   $288M  500 Global, Rakuten Ventures, Golden Gate Vent...   \n",
       "848           2019   $100M  Dragonfly Captial, Qiming Venture Partners, DS...   \n",
       "880           2018   $210M  Mundi Ventures, Doqling Capital Partners, Acti...   \n",
       "889           2015   $595M  SingTel Innov8, Alpha JWC Ventures, Golden Gat...   \n",
       "893           2020   $140M       Andreessen Horowitz, DST Global, IDG Capital   \n",
       "980           2014   $285M  Vertex Ventures SE Asia, Global Founders Capit...   \n",
       "986           2011   $515M  Temasek, Guggenheim Investments, Qatar Investm...   \n",
       "994           2007   $352M  Sequoia Capital China, Shunwei Capital Partner...   \n",
       "1061          2013   $871M  Sequoia Capital China, ING, Alibaba Entreprene...   \n",
       "\n",
       "      Year Joined  \n",
       "12           2021  \n",
       "170          2020  \n",
       "242          2021  \n",
       "251          2019  \n",
       "325          2021  \n",
       "382          2021  \n",
       "541          2021  \n",
       "811          2021  \n",
       "848          2021  \n",
       "880          2021  \n",
       "889          2021  \n",
       "893          2021  \n",
       "980          2021  \n",
       "986          2021  \n",
       "994          2021  \n",
       "1061         2017  "
      ]
     },
     "execution_count": 24,
     "metadata": {},
     "output_type": "execute_result"
    }
   ],
   "source": [
    "missing_city_df"
   ]
  },
  {
   "cell_type": "code",
   "execution_count": 25,
   "id": "834d0328",
   "metadata": {},
   "outputs": [
    {
     "data": {
      "text/plain": [
       "12        Bahamas\n",
       "170     Singapore\n",
       "242     Singapore\n",
       "251     Singapore\n",
       "325     Hong Kong\n",
       "382     Singapore\n",
       "541     Singapore\n",
       "811     Singapore\n",
       "848     Singapore\n",
       "880     Singapore\n",
       "889     Singapore\n",
       "893     Hong Kong\n",
       "980     Singapore\n",
       "986     Singapore\n",
       "994     Singapore\n",
       "1061    Hong Kong\n",
       "Name: Country, dtype: object"
      ]
     },
     "execution_count": 25,
     "metadata": {},
     "output_type": "execute_result"
    }
   ],
   "source": [
    "missing_city_df['Country']"
   ]
  },
  {
   "cell_type": "markdown",
   "id": "e3cb3b68",
   "metadata": {},
   "source": [
    "Bahamas , Singapore, and Hong Kong are indeed city-states or comprise a primary city that functions as the entire national entity. that is why they have empty City column. To resolve this issue, we are going to populate the City column with the corresponding Country column."
   ]
  },
  {
   "cell_type": "code",
   "execution_count": 26,
   "id": "a3bbd1b3",
   "metadata": {},
   "outputs": [],
   "source": [
    "df['City'] = np.where(df['City'].isnull(), df['Country'], df['City'])"
   ]
  },
  {
   "cell_type": "code",
   "execution_count": 27,
   "id": "1be20e6f",
   "metadata": {},
   "outputs": [
    {
     "data": {
      "text/plain": [
       "575          Aarhus\n",
       "386        Aberdeen\n",
       "293         Alameda\n",
       "997      Alexandria\n",
       "408      Altrincham\n",
       "           ...     \n",
       "608            Wuxi\n",
       "355     Zephyr Cove\n",
       "131          Zhuhai\n",
       "983          Zurich\n",
       "1017         Zurich\n",
       "Name: City, Length: 1074, dtype: object"
      ]
     },
     "execution_count": 27,
     "metadata": {},
     "output_type": "execute_result"
    }
   ],
   "source": [
    "df['City'].sort_values()"
   ]
  },
  {
   "cell_type": "code",
   "execution_count": 28,
   "id": "962db152",
   "metadata": {
    "scrolled": true
   },
   "outputs": [
    {
     "data": {
      "text/plain": [
       "Company             0\n",
       "Valuation ($B)      0\n",
       "Date Joined         0\n",
       "Industry            0\n",
       "City                0\n",
       "Country             0\n",
       "Continent           0\n",
       "Year Founded        0\n",
       "Funding             0\n",
       "Select Investors    1\n",
       "Year Joined         0\n",
       "dtype: int64"
      ]
     },
     "execution_count": 28,
     "metadata": {},
     "output_type": "execute_result"
    }
   ],
   "source": [
    "## Check for more missing values\n",
    "df.isna().sum()"
   ]
  },
  {
   "cell_type": "code",
   "execution_count": 29,
   "id": "7e87301b",
   "metadata": {},
   "outputs": [
    {
     "data": {
      "text/plain": [
       "0                China\n",
       "1        United States\n",
       "2                China\n",
       "3        United States\n",
       "4               Sweden\n",
       "             ...      \n",
       "1069             China\n",
       "1070             China\n",
       "1071             China\n",
       "1072    United Kingdom\n",
       "1073     United States\n",
       "Name: Country, Length: 1074, dtype: object"
      ]
     },
     "execution_count": 29,
     "metadata": {},
     "output_type": "execute_result"
    }
   ],
   "source": [
    "## lets look at the Country column\n",
    "df[\"Country\"]"
   ]
  },
  {
   "cell_type": "code",
   "execution_count": 30,
   "id": "b5cc1d04",
   "metadata": {},
   "outputs": [
    {
     "data": {
      "text/plain": [
       "46"
      ]
     },
     "execution_count": 30,
     "metadata": {},
     "output_type": "execute_result"
    }
   ],
   "source": [
    "df[\"Country\"].nunique()"
   ]
  },
  {
   "cell_type": "code",
   "execution_count": 31,
   "id": "a11e8e67",
   "metadata": {},
   "outputs": [
    {
     "data": {
      "text/plain": [
       "Country\n",
       "United States           562\n",
       "China                   173\n",
       "India                    65\n",
       "United Kingdom           43\n",
       "Germany                  26\n",
       "France                   24\n",
       "Israel                   20\n",
       "Canada                   19\n",
       "Brazil                   16\n",
       "Singapore                12\n",
       "South Korea              12\n",
       "Australia                 8\n",
       "Hong Kong                 6\n",
       "Mexico                    6\n",
       "Indonesia                 6\n",
       "Netherlands               6\n",
       "Sweden                    6\n",
       "Switzerland               5\n",
       "Japan                     5\n",
       "Ireland                   5\n",
       "Finland                   4\n",
       "Norway                    4\n",
       "United Arab Emirates      3\n",
       "Turkey                    3\n",
       "Spain                     3\n",
       "Belgium                   3\n",
       "Chile                     2\n",
       "South Africa              2\n",
       "Philippines               2\n",
       "Thailand                  2\n",
       "Estonia                   2\n",
       "Vietnam                   2\n",
       "Austria                   2\n",
       "Colombia                  2\n",
       "Denmark                   2\n",
       "Argentina                 1\n",
       "Bermuda                   1\n",
       "Lithuania                 1\n",
       "Malaysia                  1\n",
       "Senegal                   1\n",
       "Bahamas                   1\n",
       "Luxembourg                1\n",
       "Nigeria                   1\n",
       "Czech Republic            1\n",
       "Croatia                   1\n",
       "Italy                     1\n",
       "Name: count, dtype: int64"
      ]
     },
     "execution_count": 31,
     "metadata": {},
     "output_type": "execute_result"
    }
   ],
   "source": [
    "df[\"Country\"].value_counts()"
   ]
  },
  {
   "cell_type": "code",
   "execution_count": 32,
   "id": "d756fec7",
   "metadata": {},
   "outputs": [
    {
     "data": {
      "text/plain": [
       "0                Asia\n",
       "1       North America\n",
       "2                Asia\n",
       "3       North America\n",
       "4              Europe\n",
       "            ...      \n",
       "1069             Asia\n",
       "1070             Asia\n",
       "1071             Asia\n",
       "1072           Europe\n",
       "1073    North America\n",
       "Name: Continent, Length: 1074, dtype: object"
      ]
     },
     "execution_count": 32,
     "metadata": {},
     "output_type": "execute_result"
    }
   ],
   "source": [
    "## Lets check the Continent column\n",
    "df['Continent']"
   ]
  },
  {
   "cell_type": "code",
   "execution_count": 33,
   "id": "40f8a523",
   "metadata": {
    "scrolled": true
   },
   "outputs": [
    {
     "data": {
      "text/plain": [
       "Continent\n",
       "North America    589\n",
       "Asia             310\n",
       "Europe           143\n",
       "South America     21\n",
       "Oceania            8\n",
       "Africa             3\n",
       "Name: count, dtype: int64"
      ]
     },
     "execution_count": 33,
     "metadata": {},
     "output_type": "execute_result"
    }
   ],
   "source": [
    "df[\"Continent\"].value_counts()"
   ]
  },
  {
   "cell_type": "code",
   "execution_count": 34,
   "id": "66d34d9b",
   "metadata": {},
   "outputs": [
    {
     "data": {
      "text/plain": [
       "array(['$8B', '$7B', '$2B', '$4B', '$572M', '$3B', '$14B', '$5B', '$918M',\n",
       "       '$476M', '$770M', '$979M', '$721M', '$490M', '$734M', '$427M',\n",
       "       '$400M', '$1B', '$799M', '$765M', '$800M', '$376M', '$558M',\n",
       "       '$294M', '$564M', '$333M', '$691M', '$343M', '$497M', '$71M',\n",
       "       '$679M', '$775M', '$105M', '$742M', '$607M', '$549M', '$660M',\n",
       "       '$820M', '$297M', '$922M', '$863M', '$447M', '$844M', '$603M',\n",
       "       '$583M', '$912M', '$920M', '$849M', '$424M', '$645M', '$802M',\n",
       "       '$629M', '$448M', '$928M', '$815M', '$728M', '$433M', '$891M',\n",
       "       '$524M', '$803M', '$415M', '$587M', '$826M', '$910M', '$412M',\n",
       "       '$405M', '$729M', '$600M', '$869M', '$187M', '$943M', '$514M',\n",
       "       '$492M', '$644M', '$562M', '$286M', '$559M', '$647M', '$567M',\n",
       "       '$428M', '$996M', '$596M', '$426M', '$462M', '$824M', '$926M',\n",
       "       '$755M', '$633M', '$599M', '$371M', '$425M', '$761M', '$903M',\n",
       "       '$704M', '$503M', '$655M', '$263M', '$216M', '$128M', '$776M',\n",
       "       '$119M', '$555M', '$864M', '$468M', '$505M', '$542M', '$381M',\n",
       "       '$434M', '$643M', '$948M', '$435M', '$0M', '$489M', '$352M',\n",
       "       '$477M', '$125M', '$404M', '$498M', '$493M', '$657M', '$440M',\n",
       "       '$792M', '$739M', '$324M', '$379M', '$367M', '$414M', '$350M',\n",
       "       '$495M', '$664M', 'Unknown', '$546M', '$523M', '$667M', '$250M',\n",
       "       '$720M', '$535M', '$110M', '$870M', '$614M', '$504M', '$881M',\n",
       "       '$856M', '$413M', '$230M', '$553M', '$445M', '$335M', '$450M',\n",
       "       '$1M', '$154M', '$471M', '$54M', '$418M', '$859M', '$714M',\n",
       "       '$225M', '$408M', '$500M', '$532M', '$531M', '$582M', '$75M',\n",
       "       '$685M', '$280M', '$274M', '$314M', '$366M', '$465M', '$730M',\n",
       "       '$987M', '$313M', '$148M', '$789M', '$395M', '$496M', '$706M',\n",
       "       '$357M', '$722M', '$407M', '$818M', '$248M', '$507M', '$543M',\n",
       "       '$200M', '$417M', '$999M', '$880M', '$777M', '$398M', '$666M',\n",
       "       '$461M', '$682M', '$483M', '$299M', '$326M', '$812M', '$591M',\n",
       "       '$334M', '$399M', '$698M', '$551M', '$665M', '$628M', '$475M',\n",
       "       '$788M', '$360M', '$328M', '$487M', '$351M', '$711M', '$975M',\n",
       "       '$474M', '$525M', '$393M', '$612M', '$329M', '$330M', '$170M',\n",
       "       '$240M', '$419M', '$311M', '$339M', '$919M', '$180M', '$127M',\n",
       "       '$224M', '$45M', '$946M', '$19M', '$536M', '$188M', '$101M',\n",
       "       '$390M', '$717M', '$29M', '$186M', '$137M', '$634M', '$556M',\n",
       "       '$594M', '$696M', '$640M', '$754M', '$221M', '$340M', '$766M',\n",
       "       '$431M', '$233M', '$472M', '$861M', '$568M', '$320M', '$181M',\n",
       "       '$150M', '$289M', '$100M', '$719M', '$257M', '$828M', '$142M',\n",
       "       '$261M', '$466M', '$245M', '$310M', '$192M', '$211M', '$203M',\n",
       "       '$370M', '$217M', '$253M', '$218M', '$190M', '$152M', '$129M',\n",
       "       '$177M', '$331M', '$204M', '$544M', '$90M', '$120M', '$380M',\n",
       "       '$401M', '$744M', '$282M', '$386M', '$151M', '$421M', '$219M',\n",
       "       '$325M', '$538M', '$222M', '$255M', '$195M', '$139M', '$236M',\n",
       "       '$298M', '$624M', '$266M', '$902M', '$179M', '$403M', '$397M',\n",
       "       '$364M', '$285M', '$517M', '$577M', '$315M', '$358M', '$251M',\n",
       "       '$237M', '$231M', '$663M', '$275M', '$557M', '$229M', '$277M',\n",
       "       '$509M', '$423M', '$378M', '$422M', '$402M', '$710M', '$287M',\n",
       "       '$550M', '$259M', '$172M', '$305M', '$374M', '$193M', '$676M',\n",
       "       '$345M', '$96M', '$295M', '$301M', '$300M', '$441M', '$593M',\n",
       "       '$529M', '$349M', '$268M', '$365M', '$791M', '$210M', '$438M',\n",
       "       '$293M', '$658M', '$341M', '$449M', '$115M', '$281M', '$302M',\n",
       "       '$456M', '$410M', '$121M', '$342M', '$545M', '$569M', '$527M',\n",
       "       '$183M', '$202M', '$570M', '$566M', '$147M', '$226M', '$356M',\n",
       "       '$296M', '$161M', '$432M', '$373M', '$768M', '$950M', '$786M',\n",
       "       '$94M', '$62M', '$206M', '$547M', '$227M', '$79M', '$214M',\n",
       "       '$700M', '$223M', '$249M', '$131M', '$143M', '$650M', '$344M',\n",
       "       '$52M', '$394M', '$163M', '$164M', '$43M', '$171M', '$174M',\n",
       "       '$369M', '$307M', '$149M', '$554M', '$947M', '$160M', '$388M',\n",
       "       '$98M', '$235M', '$632M', '$116M', '$267M', '$271M', '$511M',\n",
       "       '$207M', '$362M', '$228M', '$262M', '$323M', '$303M', '$318M',\n",
       "       '$165M', '$264M', '$384M', '$169M', '$368M', '$141M', '$241M',\n",
       "       '$521M', '$382M', '$436M', '$156M', '$276M', '$178M', '$67M',\n",
       "       '$252M', '$361M', '$738M', '$102M', '$130M', '$215M', '$166M',\n",
       "       '$336M', '$201M', '$10M', '$610M', '$291M', '$246M', '$157M',\n",
       "       '$260M', '$482M', '$14M', '$167M', '$520M', '$191M', '$111M',\n",
       "       '$317M', '$189M', '$337M', '$430M', '$124M', '$118M', '$309M',\n",
       "       '$347M', '$194M', '$9M', '$573M', '$33M', '$787M', '$144M',\n",
       "       '$197M', '$875M', '$205M', '$292M', '$396M', '$458M', '$288M',\n",
       "       '$140M', '$109M', '$304M', '$258M', '$656M', '$185M', '$134M',\n",
       "       '$136M', '$346M', '$53M', '$247M', '$107M', '$132M', '$86M',\n",
       "       '$273M', '$243M', '$265M', '$534M', '$64M', '$697M', '$238M',\n",
       "       '$526M', '$406M', '$595M', '$182M', '$254M', '$196M', '$269M',\n",
       "       '$232M', '$460M', '$209M', '$279M', '$145M', '$391M', '$359M',\n",
       "       '$283M', '$439M', '$284M', '$93M', '$592M', '$17M', '$173M',\n",
       "       '$135M', '$92M', '$306M', '$126M', '$91M', '$588M', '$463M',\n",
       "       '$220M', '$515M', '$51M', '$60M', '$239M', '$15M', '$484M',\n",
       "       '$416M', '$114M', '$623M', '$585M', '$516M', '$308M', '$70M',\n",
       "       '$871M', '$389M', '$990M', '$80M', '$620M'], dtype=object)"
      ]
     },
     "execution_count": 34,
     "metadata": {},
     "output_type": "execute_result"
    }
   ],
   "source": [
    "## Lets look at the funding Column\n",
    "df['Funding'].unique()"
   ]
  },
  {
   "cell_type": "markdown",
   "id": "6804d4f3",
   "metadata": {},
   "source": [
    "we need th standadize the Funding column, and repeat what we did in the valuation Column"
   ]
  },
  {
   "cell_type": "code",
   "execution_count": 35,
   "id": "7a3d86c2",
   "metadata": {},
   "outputs": [],
   "source": [
    "##Replace '$','B' and 'M' from the column and change the data type to integer\n",
    "df['Funding'] = df['Funding'].astype(str).replace('([^\\w/-])','', regex = True).replace([\"B\",\"M\"],\"\" ,regex = True).replace('Unknown','0',regex= True).astype(int)"
   ]
  },
  {
   "cell_type": "code",
   "execution_count": 36,
   "id": "6b2c4436",
   "metadata": {},
   "outputs": [
    {
     "data": {
      "text/plain": [
       "0         8\n",
       "1         7\n",
       "2         2\n",
       "3         2\n",
       "4         4\n",
       "       ... \n",
       "1069    379\n",
       "1070    990\n",
       "1071     80\n",
       "1072    792\n",
       "1073    620\n",
       "Name: Funding, Length: 1074, dtype: int32"
      ]
     },
     "execution_count": 36,
     "metadata": {},
     "output_type": "execute_result"
    }
   ],
   "source": [
    "df[\"Funding\"]"
   ]
  },
  {
   "cell_type": "code",
   "execution_count": 37,
   "id": "1bc7a301",
   "metadata": {},
   "outputs": [],
   "source": [
    "df['Funding']=np.where(df['Funding'] == 0,df['Funding'].mode() ,df['Funding'])"
   ]
  },
  {
   "cell_type": "code",
   "execution_count": 38,
   "id": "e5088ca2",
   "metadata": {},
   "outputs": [
    {
     "data": {
      "text/plain": [
       "<bound method Series.sort_values of 0         8\n",
       "1         7\n",
       "2         2\n",
       "3         2\n",
       "4         4\n",
       "       ... \n",
       "1069    379\n",
       "1070    990\n",
       "1071     80\n",
       "1072    792\n",
       "1073    620\n",
       "Name: Funding, Length: 1074, dtype: int32>"
      ]
     },
     "execution_count": 38,
     "metadata": {},
     "output_type": "execute_result"
    }
   ],
   "source": [
    "df['Funding'].sort_values"
   ]
  },
  {
   "cell_type": "code",
   "execution_count": 39,
   "id": "d0fda27f",
   "metadata": {},
   "outputs": [],
   "source": [
    "## Standadize the column\n",
    "df['Funding']=np.where(df['Funding']>15,df[\"Funding\"]/1000,df[\"Funding\"])"
   ]
  },
  {
   "cell_type": "code",
   "execution_count": 40,
   "id": "e8f6ffe5",
   "metadata": {},
   "outputs": [
    {
     "data": {
      "text/plain": [
       "0       8.000\n",
       "1       7.000\n",
       "2       2.000\n",
       "3       2.000\n",
       "4       4.000\n",
       "        ...  \n",
       "1069    0.379\n",
       "1070    0.990\n",
       "1071    0.080\n",
       "1072    0.792\n",
       "1073    0.620\n",
       "Name: Funding, Length: 1074, dtype: float64"
      ]
     },
     "execution_count": 40,
     "metadata": {},
     "output_type": "execute_result"
    }
   ],
   "source": [
    "df['Funding']"
   ]
  },
  {
   "cell_type": "code",
   "execution_count": 41,
   "id": "d94417a3",
   "metadata": {},
   "outputs": [
    {
     "data": {
      "text/html": [
       "<div>\n",
       "<style scoped>\n",
       "    .dataframe tbody tr th:only-of-type {\n",
       "        vertical-align: middle;\n",
       "    }\n",
       "\n",
       "    .dataframe tbody tr th {\n",
       "        vertical-align: top;\n",
       "    }\n",
       "\n",
       "    .dataframe thead th {\n",
       "        text-align: right;\n",
       "    }\n",
       "</style>\n",
       "<table border=\"1\" class=\"dataframe\">\n",
       "  <thead>\n",
       "    <tr style=\"text-align: right;\">\n",
       "      <th></th>\n",
       "      <th>Company</th>\n",
       "      <th>Valuation ($B)</th>\n",
       "      <th>Date Joined</th>\n",
       "      <th>Industry</th>\n",
       "      <th>City</th>\n",
       "      <th>Country</th>\n",
       "      <th>Continent</th>\n",
       "      <th>Year Founded</th>\n",
       "      <th>Funding</th>\n",
       "      <th>Select Investors</th>\n",
       "      <th>Year Joined</th>\n",
       "    </tr>\n",
       "  </thead>\n",
       "  <tbody>\n",
       "    <tr>\n",
       "      <th>0</th>\n",
       "      <td>Bytedance</td>\n",
       "      <td>180</td>\n",
       "      <td>2017-04-07</td>\n",
       "      <td>Artificial intelligence</td>\n",
       "      <td>Beijing</td>\n",
       "      <td>China</td>\n",
       "      <td>Asia</td>\n",
       "      <td>2012</td>\n",
       "      <td>8.000</td>\n",
       "      <td>Sequoia Capital China, SIG Asia Investments, S...</td>\n",
       "      <td>2017</td>\n",
       "    </tr>\n",
       "    <tr>\n",
       "      <th>1</th>\n",
       "      <td>SpaceX</td>\n",
       "      <td>100</td>\n",
       "      <td>2012-12-01</td>\n",
       "      <td>Other</td>\n",
       "      <td>Hawthorne</td>\n",
       "      <td>United States</td>\n",
       "      <td>North America</td>\n",
       "      <td>2002</td>\n",
       "      <td>7.000</td>\n",
       "      <td>Founders Fund, Draper Fisher Jurvetson, Rothen...</td>\n",
       "      <td>2012</td>\n",
       "    </tr>\n",
       "    <tr>\n",
       "      <th>2</th>\n",
       "      <td>SHEIN</td>\n",
       "      <td>100</td>\n",
       "      <td>2018-07-03</td>\n",
       "      <td>E-commerce &amp; direct-to-consumer</td>\n",
       "      <td>Shenzhen</td>\n",
       "      <td>China</td>\n",
       "      <td>Asia</td>\n",
       "      <td>2008</td>\n",
       "      <td>2.000</td>\n",
       "      <td>Tiger Global Management, Sequoia Capital China...</td>\n",
       "      <td>2018</td>\n",
       "    </tr>\n",
       "    <tr>\n",
       "      <th>3</th>\n",
       "      <td>Stripe</td>\n",
       "      <td>95</td>\n",
       "      <td>2014-01-23</td>\n",
       "      <td>Fintech</td>\n",
       "      <td>San Francisco</td>\n",
       "      <td>United States</td>\n",
       "      <td>North America</td>\n",
       "      <td>2010</td>\n",
       "      <td>2.000</td>\n",
       "      <td>Khosla Ventures, LowercaseCapital, capitalG</td>\n",
       "      <td>2014</td>\n",
       "    </tr>\n",
       "    <tr>\n",
       "      <th>4</th>\n",
       "      <td>Klarna</td>\n",
       "      <td>46</td>\n",
       "      <td>2011-12-12</td>\n",
       "      <td>Fintech</td>\n",
       "      <td>Stockholm</td>\n",
       "      <td>Sweden</td>\n",
       "      <td>Europe</td>\n",
       "      <td>2005</td>\n",
       "      <td>4.000</td>\n",
       "      <td>Institutional Venture Partners, Sequoia Capita...</td>\n",
       "      <td>2011</td>\n",
       "    </tr>\n",
       "    <tr>\n",
       "      <th>...</th>\n",
       "      <td>...</td>\n",
       "      <td>...</td>\n",
       "      <td>...</td>\n",
       "      <td>...</td>\n",
       "      <td>...</td>\n",
       "      <td>...</td>\n",
       "      <td>...</td>\n",
       "      <td>...</td>\n",
       "      <td>...</td>\n",
       "      <td>...</td>\n",
       "      <td>...</td>\n",
       "    </tr>\n",
       "    <tr>\n",
       "      <th>1069</th>\n",
       "      <td>Zhaogang</td>\n",
       "      <td>1</td>\n",
       "      <td>2017-06-29</td>\n",
       "      <td>E-commerce &amp; direct-to-consumer</td>\n",
       "      <td>Shanghai</td>\n",
       "      <td>China</td>\n",
       "      <td>Asia</td>\n",
       "      <td>2012</td>\n",
       "      <td>0.379</td>\n",
       "      <td>K2 Ventures, Matrix Partners China, IDG Capital</td>\n",
       "      <td>2017</td>\n",
       "    </tr>\n",
       "    <tr>\n",
       "      <th>1070</th>\n",
       "      <td>Zhuan Zhuan</td>\n",
       "      <td>1</td>\n",
       "      <td>2017-04-18</td>\n",
       "      <td>E-commerce &amp; direct-to-consumer</td>\n",
       "      <td>Beijing</td>\n",
       "      <td>China</td>\n",
       "      <td>Asia</td>\n",
       "      <td>2015</td>\n",
       "      <td>0.990</td>\n",
       "      <td>58.com, Tencent Holdings</td>\n",
       "      <td>2017</td>\n",
       "    </tr>\n",
       "    <tr>\n",
       "      <th>1071</th>\n",
       "      <td>Zihaiguo</td>\n",
       "      <td>1</td>\n",
       "      <td>2021-05-06</td>\n",
       "      <td>Consumer &amp; retail</td>\n",
       "      <td>Chongqing</td>\n",
       "      <td>China</td>\n",
       "      <td>Asia</td>\n",
       "      <td>2018</td>\n",
       "      <td>0.080</td>\n",
       "      <td>Xingwang Investment Management, China Capital ...</td>\n",
       "      <td>2021</td>\n",
       "    </tr>\n",
       "    <tr>\n",
       "      <th>1072</th>\n",
       "      <td>Zopa</td>\n",
       "      <td>1</td>\n",
       "      <td>2021-10-19</td>\n",
       "      <td>Fintech</td>\n",
       "      <td>London</td>\n",
       "      <td>United Kingdom</td>\n",
       "      <td>Europe</td>\n",
       "      <td>2005</td>\n",
       "      <td>0.792</td>\n",
       "      <td>IAG Capital Partners, Augmentum Fintech, North...</td>\n",
       "      <td>2021</td>\n",
       "    </tr>\n",
       "    <tr>\n",
       "      <th>1073</th>\n",
       "      <td>Zwift</td>\n",
       "      <td>1</td>\n",
       "      <td>2020-09-16</td>\n",
       "      <td>E-commerce &amp; direct-to-consumer</td>\n",
       "      <td>Long Beach</td>\n",
       "      <td>United States</td>\n",
       "      <td>North America</td>\n",
       "      <td>2014</td>\n",
       "      <td>0.620</td>\n",
       "      <td>Novator Partners, True, Causeway Media Partners</td>\n",
       "      <td>2020</td>\n",
       "    </tr>\n",
       "  </tbody>\n",
       "</table>\n",
       "<p>1074 rows × 11 columns</p>\n",
       "</div>"
      ],
      "text/plain": [
       "          Company  Valuation ($B) Date Joined  \\\n",
       "0       Bytedance             180  2017-04-07   \n",
       "1          SpaceX             100  2012-12-01   \n",
       "2           SHEIN             100  2018-07-03   \n",
       "3          Stripe              95  2014-01-23   \n",
       "4          Klarna              46  2011-12-12   \n",
       "...           ...             ...         ...   \n",
       "1069     Zhaogang               1  2017-06-29   \n",
       "1070  Zhuan Zhuan               1  2017-04-18   \n",
       "1071     Zihaiguo               1  2021-05-06   \n",
       "1072         Zopa               1  2021-10-19   \n",
       "1073        Zwift               1  2020-09-16   \n",
       "\n",
       "                             Industry           City         Country  \\\n",
       "0             Artificial intelligence        Beijing           China   \n",
       "1                               Other      Hawthorne   United States   \n",
       "2     E-commerce & direct-to-consumer       Shenzhen           China   \n",
       "3                             Fintech  San Francisco   United States   \n",
       "4                             Fintech      Stockholm          Sweden   \n",
       "...                               ...            ...             ...   \n",
       "1069  E-commerce & direct-to-consumer       Shanghai           China   \n",
       "1070  E-commerce & direct-to-consumer        Beijing           China   \n",
       "1071                Consumer & retail      Chongqing           China   \n",
       "1072                          Fintech         London  United Kingdom   \n",
       "1073  E-commerce & direct-to-consumer     Long Beach   United States   \n",
       "\n",
       "          Continent  Year Founded  Funding  \\\n",
       "0              Asia          2012    8.000   \n",
       "1     North America          2002    7.000   \n",
       "2              Asia          2008    2.000   \n",
       "3     North America          2010    2.000   \n",
       "4            Europe          2005    4.000   \n",
       "...             ...           ...      ...   \n",
       "1069           Asia          2012    0.379   \n",
       "1070           Asia          2015    0.990   \n",
       "1071           Asia          2018    0.080   \n",
       "1072         Europe          2005    0.792   \n",
       "1073  North America          2014    0.620   \n",
       "\n",
       "                                       Select Investors  Year Joined  \n",
       "0     Sequoia Capital China, SIG Asia Investments, S...         2017  \n",
       "1     Founders Fund, Draper Fisher Jurvetson, Rothen...         2012  \n",
       "2     Tiger Global Management, Sequoia Capital China...         2018  \n",
       "3           Khosla Ventures, LowercaseCapital, capitalG         2014  \n",
       "4     Institutional Venture Partners, Sequoia Capita...         2011  \n",
       "...                                                 ...          ...  \n",
       "1069    K2 Ventures, Matrix Partners China, IDG Capital         2017  \n",
       "1070                           58.com, Tencent Holdings         2017  \n",
       "1071  Xingwang Investment Management, China Capital ...         2021  \n",
       "1072  IAG Capital Partners, Augmentum Fintech, North...         2021  \n",
       "1073    Novator Partners, True, Causeway Media Partners         2020  \n",
       "\n",
       "[1074 rows x 11 columns]"
      ]
     },
     "execution_count": 41,
     "metadata": {},
     "output_type": "execute_result"
    }
   ],
   "source": [
    "df"
   ]
  },
  {
   "cell_type": "code",
   "execution_count": 42,
   "id": "d16b7f72",
   "metadata": {},
   "outputs": [],
   "source": [
    "## lets look at the Selected Investors column and split it\n",
    "investors=df[\"Select Investors\"].str.split(',', expand=True)"
   ]
  },
  {
   "cell_type": "code",
   "execution_count": 43,
   "id": "696f4745",
   "metadata": {},
   "outputs": [
    {
     "data": {
      "text/html": [
       "<div>\n",
       "<style scoped>\n",
       "    .dataframe tbody tr th:only-of-type {\n",
       "        vertical-align: middle;\n",
       "    }\n",
       "\n",
       "    .dataframe tbody tr th {\n",
       "        vertical-align: top;\n",
       "    }\n",
       "\n",
       "    .dataframe thead th {\n",
       "        text-align: right;\n",
       "    }\n",
       "</style>\n",
       "<table border=\"1\" class=\"dataframe\">\n",
       "  <thead>\n",
       "    <tr style=\"text-align: right;\">\n",
       "      <th></th>\n",
       "      <th>0</th>\n",
       "      <th>1</th>\n",
       "      <th>2</th>\n",
       "      <th>3</th>\n",
       "    </tr>\n",
       "  </thead>\n",
       "  <tbody>\n",
       "    <tr>\n",
       "      <th>0</th>\n",
       "      <td>Sequoia Capital China</td>\n",
       "      <td>SIG Asia Investments</td>\n",
       "      <td>Sina Weibo</td>\n",
       "      <td>Softbank Group</td>\n",
       "    </tr>\n",
       "    <tr>\n",
       "      <th>1</th>\n",
       "      <td>Founders Fund</td>\n",
       "      <td>Draper Fisher Jurvetson</td>\n",
       "      <td>Rothenberg Ventures</td>\n",
       "      <td>None</td>\n",
       "    </tr>\n",
       "    <tr>\n",
       "      <th>2</th>\n",
       "      <td>Tiger Global Management</td>\n",
       "      <td>Sequoia Capital China</td>\n",
       "      <td>Shunwei Capital Partners</td>\n",
       "      <td>None</td>\n",
       "    </tr>\n",
       "    <tr>\n",
       "      <th>3</th>\n",
       "      <td>Khosla Ventures</td>\n",
       "      <td>LowercaseCapital</td>\n",
       "      <td>capitalG</td>\n",
       "      <td>None</td>\n",
       "    </tr>\n",
       "    <tr>\n",
       "      <th>4</th>\n",
       "      <td>Institutional Venture Partners</td>\n",
       "      <td>Sequoia Capital</td>\n",
       "      <td>General Atlantic</td>\n",
       "      <td>None</td>\n",
       "    </tr>\n",
       "    <tr>\n",
       "      <th>...</th>\n",
       "      <td>...</td>\n",
       "      <td>...</td>\n",
       "      <td>...</td>\n",
       "      <td>...</td>\n",
       "    </tr>\n",
       "    <tr>\n",
       "      <th>1069</th>\n",
       "      <td>K2 Ventures</td>\n",
       "      <td>Matrix Partners China</td>\n",
       "      <td>IDG Capital</td>\n",
       "      <td>None</td>\n",
       "    </tr>\n",
       "    <tr>\n",
       "      <th>1070</th>\n",
       "      <td>58.com</td>\n",
       "      <td>Tencent Holdings</td>\n",
       "      <td>None</td>\n",
       "      <td>None</td>\n",
       "    </tr>\n",
       "    <tr>\n",
       "      <th>1071</th>\n",
       "      <td>Xingwang Investment Management</td>\n",
       "      <td>China Capital Investment Group</td>\n",
       "      <td>Matrix Partners China</td>\n",
       "      <td>None</td>\n",
       "    </tr>\n",
       "    <tr>\n",
       "      <th>1072</th>\n",
       "      <td>IAG Capital Partners</td>\n",
       "      <td>Augmentum Fintech</td>\n",
       "      <td>Northzone Ventures</td>\n",
       "      <td>None</td>\n",
       "    </tr>\n",
       "    <tr>\n",
       "      <th>1073</th>\n",
       "      <td>Novator Partners</td>\n",
       "      <td>True</td>\n",
       "      <td>Causeway Media Partners</td>\n",
       "      <td>None</td>\n",
       "    </tr>\n",
       "  </tbody>\n",
       "</table>\n",
       "<p>1074 rows × 4 columns</p>\n",
       "</div>"
      ],
      "text/plain": [
       "                                   0                                1  \\\n",
       "0              Sequoia Capital China             SIG Asia Investments   \n",
       "1                      Founders Fund          Draper Fisher Jurvetson   \n",
       "2            Tiger Global Management            Sequoia Capital China   \n",
       "3                    Khosla Ventures                 LowercaseCapital   \n",
       "4     Institutional Venture Partners                  Sequoia Capital   \n",
       "...                              ...                              ...   \n",
       "1069                     K2 Ventures            Matrix Partners China   \n",
       "1070                          58.com                 Tencent Holdings   \n",
       "1071  Xingwang Investment Management   China Capital Investment Group   \n",
       "1072            IAG Capital Partners                Augmentum Fintech   \n",
       "1073                Novator Partners                             True   \n",
       "\n",
       "                              2                3  \n",
       "0                    Sina Weibo   Softbank Group  \n",
       "1           Rothenberg Ventures             None  \n",
       "2      Shunwei Capital Partners             None  \n",
       "3                      capitalG             None  \n",
       "4              General Atlantic             None  \n",
       "...                         ...              ...  \n",
       "1069                IDG Capital             None  \n",
       "1070                       None             None  \n",
       "1071      Matrix Partners China             None  \n",
       "1072         Northzone Ventures             None  \n",
       "1073    Causeway Media Partners             None  \n",
       "\n",
       "[1074 rows x 4 columns]"
      ]
     },
     "execution_count": 43,
     "metadata": {},
     "output_type": "execute_result"
    }
   ],
   "source": [
    "investors"
   ]
  },
  {
   "cell_type": "code",
   "execution_count": 44,
   "id": "365e4b34",
   "metadata": {},
   "outputs": [
    {
     "data": {
      "text/plain": [
       "0          Sequoia Capital China\n",
       "1           SIG Asia Investments\n",
       "2                     Sina Weibo\n",
       "3                 Softbank Group\n",
       "4                  Founders Fund\n",
       "                  ...           \n",
       "3048           Augmentum Fintech\n",
       "3049          Northzone Ventures\n",
       "3050            Novator Partners\n",
       "3051                        True\n",
       "3052     Causeway Media Partners\n",
       "Length: 3053, dtype: object"
      ]
     },
     "execution_count": 44,
     "metadata": {},
     "output_type": "execute_result"
    }
   ],
   "source": [
    "investors_stacked = investors.stack().reset_index(drop=True)\n",
    "investors_stacked"
   ]
  },
  {
   "cell_type": "code",
   "execution_count": 45,
   "id": "6f1c6198",
   "metadata": {},
   "outputs": [
    {
     "data": {
      "text/plain": [
       "array(['Sequoia Capital China', ' SIG Asia Investments', ' Sina Weibo',\n",
       "       ..., 'Novator Partners', ' True', ' Causeway Media Partners'],\n",
       "      dtype=object)"
      ]
     },
     "execution_count": 45,
     "metadata": {},
     "output_type": "execute_result"
    }
   ],
   "source": [
    "investors_df = pd.DataFrame(investors_stacked)\n",
    "investors_df=investors_df.drop_duplicates()\n",
    "investors_df[0].unique()"
   ]
  },
  {
   "cell_type": "code",
   "execution_count": 46,
   "id": "97b8db18",
   "metadata": {},
   "outputs": [
    {
     "data": {
      "text/plain": [
       "0\n",
       " Tiger Global Management    39\n",
       " Accel                      32\n",
       " Sequoia Capital            30\n",
       "Sequoia Capital China       30\n",
       "Andreessen Horowitz         29\n",
       "Accel                       28\n",
       " Andreessen Horowitz        24\n",
       " Insight Partners           24\n",
       "Insight Partners            23\n",
       " General Catalyst           23\n",
       "Name: count, dtype: int64"
      ]
     },
     "execution_count": 46,
     "metadata": {},
     "output_type": "execute_result"
    }
   ],
   "source": [
    "## let look at the top ten Investors\n",
    "top_ten_investors = pd.DataFrame(investors_stacked)[0].value_counts().sort_values(ascending = False).head(10)\n",
    "top_ten_investors"
   ]
  },
  {
   "cell_type": "code",
   "execution_count": 47,
   "id": "7b4588c7",
   "metadata": {},
   "outputs": [
    {
     "data": {
      "text/plain": [
       "<Axes: xlabel='0'>"
      ]
     },
     "execution_count": 47,
     "metadata": {},
     "output_type": "execute_result"
    },
    {
     "data": {
      "image/png": "[encoded data removed]",
      "text/plain": [
       "<Figure size 640x480 with 1 Axes>"
      ]
     },
     "metadata": {},
     "output_type": "display_data"
    }
   ],
   "source": [
    "top_ten_investors.plot(kind=\"bar\")"
   ]
  },
  {
   "cell_type": "code",
   "execution_count": 48,
   "id": "ca6b2e68",
   "metadata": {},
   "outputs": [
    {
     "data": {
      "text/plain": [
       "309     \n",
       "2585    \n",
       "dtype: object"
      ]
     },
     "execution_count": 48,
     "metadata": {},
     "output_type": "execute_result"
    }
   ],
   "source": [
    "missing_investors_df = investors_stacked[investors_stacked==\"\"]\n",
    "missing_investors_df"
   ]
  },
  {
   "cell_type": "code",
   "execution_count": 49,
   "id": "69664505",
   "metadata": {},
   "outputs": [
    {
     "data": {
      "text/plain": [
       "1"
      ]
     },
     "execution_count": 49,
     "metadata": {},
     "output_type": "execute_result"
    }
   ],
   "source": [
    "## Check for missing values in the select Investor column\n",
    "df[\"Select Investors\"].isna().sum()"
   ]
  },
  {
   "cell_type": "code",
   "execution_count": 50,
   "id": "18a9bf36",
   "metadata": {},
   "outputs": [],
   "source": [
    "#3 Replace the missing value with \"Unknown\"\n",
    "df['Select Investors']=df['Select Investors'].fillna('Unknown')\n"
   ]
  },
  {
   "cell_type": "code",
   "execution_count": 51,
   "id": "1a7b6c15",
   "metadata": {},
   "outputs": [
    {
     "data": {
      "text/html": [
       "<div>\n",
       "<style scoped>\n",
       "    .dataframe tbody tr th:only-of-type {\n",
       "        vertical-align: middle;\n",
       "    }\n",
       "\n",
       "    .dataframe tbody tr th {\n",
       "        vertical-align: top;\n",
       "    }\n",
       "\n",
       "    .dataframe thead th {\n",
       "        text-align: right;\n",
       "    }\n",
       "</style>\n",
       "<table border=\"1\" class=\"dataframe\">\n",
       "  <thead>\n",
       "    <tr style=\"text-align: right;\">\n",
       "      <th></th>\n",
       "      <th>Company</th>\n",
       "      <th>Valuation ($B)</th>\n",
       "      <th>Date Joined</th>\n",
       "      <th>Industry</th>\n",
       "      <th>City</th>\n",
       "      <th>Country</th>\n",
       "      <th>Continent</th>\n",
       "      <th>Year Founded</th>\n",
       "      <th>Funding</th>\n",
       "      <th>Select Investors</th>\n",
       "      <th>Year Joined</th>\n",
       "    </tr>\n",
       "  </thead>\n",
       "  <tbody>\n",
       "    <tr>\n",
       "      <th>0</th>\n",
       "      <td>Bytedance</td>\n",
       "      <td>180</td>\n",
       "      <td>2017-04-07</td>\n",
       "      <td>Artificial intelligence</td>\n",
       "      <td>Beijing</td>\n",
       "      <td>China</td>\n",
       "      <td>Asia</td>\n",
       "      <td>2012</td>\n",
       "      <td>8.000</td>\n",
       "      <td>Sequoia Capital China, SIG Asia Investments, S...</td>\n",
       "      <td>2017</td>\n",
       "    </tr>\n",
       "    <tr>\n",
       "      <th>1</th>\n",
       "      <td>SpaceX</td>\n",
       "      <td>100</td>\n",
       "      <td>2012-12-01</td>\n",
       "      <td>Other</td>\n",
       "      <td>Hawthorne</td>\n",
       "      <td>United States</td>\n",
       "      <td>North America</td>\n",
       "      <td>2002</td>\n",
       "      <td>7.000</td>\n",
       "      <td>Founders Fund, Draper Fisher Jurvetson, Rothen...</td>\n",
       "      <td>2012</td>\n",
       "    </tr>\n",
       "    <tr>\n",
       "      <th>2</th>\n",
       "      <td>SHEIN</td>\n",
       "      <td>100</td>\n",
       "      <td>2018-07-03</td>\n",
       "      <td>E-commerce &amp; direct-to-consumer</td>\n",
       "      <td>Shenzhen</td>\n",
       "      <td>China</td>\n",
       "      <td>Asia</td>\n",
       "      <td>2008</td>\n",
       "      <td>2.000</td>\n",
       "      <td>Tiger Global Management, Sequoia Capital China...</td>\n",
       "      <td>2018</td>\n",
       "    </tr>\n",
       "    <tr>\n",
       "      <th>3</th>\n",
       "      <td>Stripe</td>\n",
       "      <td>95</td>\n",
       "      <td>2014-01-23</td>\n",
       "      <td>Fintech</td>\n",
       "      <td>San Francisco</td>\n",
       "      <td>United States</td>\n",
       "      <td>North America</td>\n",
       "      <td>2010</td>\n",
       "      <td>2.000</td>\n",
       "      <td>Khosla Ventures, LowercaseCapital, capitalG</td>\n",
       "      <td>2014</td>\n",
       "    </tr>\n",
       "    <tr>\n",
       "      <th>4</th>\n",
       "      <td>Klarna</td>\n",
       "      <td>46</td>\n",
       "      <td>2011-12-12</td>\n",
       "      <td>Fintech</td>\n",
       "      <td>Stockholm</td>\n",
       "      <td>Sweden</td>\n",
       "      <td>Europe</td>\n",
       "      <td>2005</td>\n",
       "      <td>4.000</td>\n",
       "      <td>Institutional Venture Partners, Sequoia Capita...</td>\n",
       "      <td>2011</td>\n",
       "    </tr>\n",
       "    <tr>\n",
       "      <th>...</th>\n",
       "      <td>...</td>\n",
       "      <td>...</td>\n",
       "      <td>...</td>\n",
       "      <td>...</td>\n",
       "      <td>...</td>\n",
       "      <td>...</td>\n",
       "      <td>...</td>\n",
       "      <td>...</td>\n",
       "      <td>...</td>\n",
       "      <td>...</td>\n",
       "      <td>...</td>\n",
       "    </tr>\n",
       "    <tr>\n",
       "      <th>1069</th>\n",
       "      <td>Zhaogang</td>\n",
       "      <td>1</td>\n",
       "      <td>2017-06-29</td>\n",
       "      <td>E-commerce &amp; direct-to-consumer</td>\n",
       "      <td>Shanghai</td>\n",
       "      <td>China</td>\n",
       "      <td>Asia</td>\n",
       "      <td>2012</td>\n",
       "      <td>0.379</td>\n",
       "      <td>K2 Ventures, Matrix Partners China, IDG Capital</td>\n",
       "      <td>2017</td>\n",
       "    </tr>\n",
       "    <tr>\n",
       "      <th>1070</th>\n",
       "      <td>Zhuan Zhuan</td>\n",
       "      <td>1</td>\n",
       "      <td>2017-04-18</td>\n",
       "      <td>E-commerce &amp; direct-to-consumer</td>\n",
       "      <td>Beijing</td>\n",
       "      <td>China</td>\n",
       "      <td>Asia</td>\n",
       "      <td>2015</td>\n",
       "      <td>0.990</td>\n",
       "      <td>58.com, Tencent Holdings</td>\n",
       "      <td>2017</td>\n",
       "    </tr>\n",
       "    <tr>\n",
       "      <th>1071</th>\n",
       "      <td>Zihaiguo</td>\n",
       "      <td>1</td>\n",
       "      <td>2021-05-06</td>\n",
       "      <td>Consumer &amp; retail</td>\n",
       "      <td>Chongqing</td>\n",
       "      <td>China</td>\n",
       "      <td>Asia</td>\n",
       "      <td>2018</td>\n",
       "      <td>0.080</td>\n",
       "      <td>Xingwang Investment Management, China Capital ...</td>\n",
       "      <td>2021</td>\n",
       "    </tr>\n",
       "    <tr>\n",
       "      <th>1072</th>\n",
       "      <td>Zopa</td>\n",
       "      <td>1</td>\n",
       "      <td>2021-10-19</td>\n",
       "      <td>Fintech</td>\n",
       "      <td>London</td>\n",
       "      <td>United Kingdom</td>\n",
       "      <td>Europe</td>\n",
       "      <td>2005</td>\n",
       "      <td>0.792</td>\n",
       "      <td>IAG Capital Partners, Augmentum Fintech, North...</td>\n",
       "      <td>2021</td>\n",
       "    </tr>\n",
       "    <tr>\n",
       "      <th>1073</th>\n",
       "      <td>Zwift</td>\n",
       "      <td>1</td>\n",
       "      <td>2020-09-16</td>\n",
       "      <td>E-commerce &amp; direct-to-consumer</td>\n",
       "      <td>Long Beach</td>\n",
       "      <td>United States</td>\n",
       "      <td>North America</td>\n",
       "      <td>2014</td>\n",
       "      <td>0.620</td>\n",
       "      <td>Novator Partners, True, Causeway Media Partners</td>\n",
       "      <td>2020</td>\n",
       "    </tr>\n",
       "  </tbody>\n",
       "</table>\n",
       "<p>1074 rows × 11 columns</p>\n",
       "</div>"
      ],
      "text/plain": [
       "          Company  Valuation ($B) Date Joined  \\\n",
       "0       Bytedance             180  2017-04-07   \n",
       "1          SpaceX             100  2012-12-01   \n",
       "2           SHEIN             100  2018-07-03   \n",
       "3          Stripe              95  2014-01-23   \n",
       "4          Klarna              46  2011-12-12   \n",
       "...           ...             ...         ...   \n",
       "1069     Zhaogang               1  2017-06-29   \n",
       "1070  Zhuan Zhuan               1  2017-04-18   \n",
       "1071     Zihaiguo               1  2021-05-06   \n",
       "1072         Zopa               1  2021-10-19   \n",
       "1073        Zwift               1  2020-09-16   \n",
       "\n",
       "                             Industry           City         Country  \\\n",
       "0             Artificial intelligence        Beijing           China   \n",
       "1                               Other      Hawthorne   United States   \n",
       "2     E-commerce & direct-to-consumer       Shenzhen           China   \n",
       "3                             Fintech  San Francisco   United States   \n",
       "4                             Fintech      Stockholm          Sweden   \n",
       "...                               ...            ...             ...   \n",
       "1069  E-commerce & direct-to-consumer       Shanghai           China   \n",
       "1070  E-commerce & direct-to-consumer        Beijing           China   \n",
       "1071                Consumer & retail      Chongqing           China   \n",
       "1072                          Fintech         London  United Kingdom   \n",
       "1073  E-commerce & direct-to-consumer     Long Beach   United States   \n",
       "\n",
       "          Continent  Year Founded  Funding  \\\n",
       "0              Asia          2012    8.000   \n",
       "1     North America          2002    7.000   \n",
       "2              Asia          2008    2.000   \n",
       "3     North America          2010    2.000   \n",
       "4            Europe          2005    4.000   \n",
       "...             ...           ...      ...   \n",
       "1069           Asia          2012    0.379   \n",
       "1070           Asia          2015    0.990   \n",
       "1071           Asia          2018    0.080   \n",
       "1072         Europe          2005    0.792   \n",
       "1073  North America          2014    0.620   \n",
       "\n",
       "                                       Select Investors  Year Joined  \n",
       "0     Sequoia Capital China, SIG Asia Investments, S...         2017  \n",
       "1     Founders Fund, Draper Fisher Jurvetson, Rothen...         2012  \n",
       "2     Tiger Global Management, Sequoia Capital China...         2018  \n",
       "3           Khosla Ventures, LowercaseCapital, capitalG         2014  \n",
       "4     Institutional Venture Partners, Sequoia Capita...         2011  \n",
       "...                                                 ...          ...  \n",
       "1069    K2 Ventures, Matrix Partners China, IDG Capital         2017  \n",
       "1070                           58.com, Tencent Holdings         2017  \n",
       "1071  Xingwang Investment Management, China Capital ...         2021  \n",
       "1072  IAG Capital Partners, Augmentum Fintech, North...         2021  \n",
       "1073    Novator Partners, True, Causeway Media Partners         2020  \n",
       "\n",
       "[1074 rows x 11 columns]"
      ]
     },
     "execution_count": 51,
     "metadata": {},
     "output_type": "execute_result"
    }
   ],
   "source": [
    "df"
   ]
  },
  {
   "cell_type": "code",
   "execution_count": 52,
   "id": "6e3e87ac",
   "metadata": {},
   "outputs": [],
   "source": [
    "## rename the 'Valuation' column\n",
    "df = df.rename(columns={'Valuation': 'Valuation ($B)'})\n"
   ]
  },
  {
   "cell_type": "code",
   "execution_count": 53,
   "id": "8e23d8b0",
   "metadata": {},
   "outputs": [],
   "source": [
    "## Rename the \"Funding\" column\n",
    "df=df.rename(columns={'Funding': 'Funding ($B)'})\n"
   ]
  },
  {
   "cell_type": "code",
   "execution_count": 54,
   "id": "836ad65c",
   "metadata": {},
   "outputs": [
    {
     "data": {
      "text/html": [
       "<div>\n",
       "<style scoped>\n",
       "    .dataframe tbody tr th:only-of-type {\n",
       "        vertical-align: middle;\n",
       "    }\n",
       "\n",
       "    .dataframe tbody tr th {\n",
       "        vertical-align: top;\n",
       "    }\n",
       "\n",
       "    .dataframe thead th {\n",
       "        text-align: right;\n",
       "    }\n",
       "</style>\n",
       "<table border=\"1\" class=\"dataframe\">\n",
       "  <thead>\n",
       "    <tr style=\"text-align: right;\">\n",
       "      <th></th>\n",
       "      <th>Company</th>\n",
       "      <th>Valuation ($B)</th>\n",
       "      <th>Date Joined</th>\n",
       "      <th>Industry</th>\n",
       "      <th>City</th>\n",
       "      <th>Country</th>\n",
       "      <th>Continent</th>\n",
       "      <th>Year Founded</th>\n",
       "      <th>Funding ($B)</th>\n",
       "      <th>Select Investors</th>\n",
       "      <th>Year Joined</th>\n",
       "    </tr>\n",
       "  </thead>\n",
       "  <tbody>\n",
       "    <tr>\n",
       "      <th>0</th>\n",
       "      <td>Bytedance</td>\n",
       "      <td>180</td>\n",
       "      <td>2017-04-07</td>\n",
       "      <td>Artificial intelligence</td>\n",
       "      <td>Beijing</td>\n",
       "      <td>China</td>\n",
       "      <td>Asia</td>\n",
       "      <td>2012</td>\n",
       "      <td>8.0</td>\n",
       "      <td>Sequoia Capital China, SIG Asia Investments, S...</td>\n",
       "      <td>2017</td>\n",
       "    </tr>\n",
       "    <tr>\n",
       "      <th>1</th>\n",
       "      <td>SpaceX</td>\n",
       "      <td>100</td>\n",
       "      <td>2012-12-01</td>\n",
       "      <td>Other</td>\n",
       "      <td>Hawthorne</td>\n",
       "      <td>United States</td>\n",
       "      <td>North America</td>\n",
       "      <td>2002</td>\n",
       "      <td>7.0</td>\n",
       "      <td>Founders Fund, Draper Fisher Jurvetson, Rothen...</td>\n",
       "      <td>2012</td>\n",
       "    </tr>\n",
       "    <tr>\n",
       "      <th>2</th>\n",
       "      <td>SHEIN</td>\n",
       "      <td>100</td>\n",
       "      <td>2018-07-03</td>\n",
       "      <td>E-commerce &amp; direct-to-consumer</td>\n",
       "      <td>Shenzhen</td>\n",
       "      <td>China</td>\n",
       "      <td>Asia</td>\n",
       "      <td>2008</td>\n",
       "      <td>2.0</td>\n",
       "      <td>Tiger Global Management, Sequoia Capital China...</td>\n",
       "      <td>2018</td>\n",
       "    </tr>\n",
       "    <tr>\n",
       "      <th>3</th>\n",
       "      <td>Stripe</td>\n",
       "      <td>95</td>\n",
       "      <td>2014-01-23</td>\n",
       "      <td>Fintech</td>\n",
       "      <td>San Francisco</td>\n",
       "      <td>United States</td>\n",
       "      <td>North America</td>\n",
       "      <td>2010</td>\n",
       "      <td>2.0</td>\n",
       "      <td>Khosla Ventures, LowercaseCapital, capitalG</td>\n",
       "      <td>2014</td>\n",
       "    </tr>\n",
       "    <tr>\n",
       "      <th>4</th>\n",
       "      <td>Klarna</td>\n",
       "      <td>46</td>\n",
       "      <td>2011-12-12</td>\n",
       "      <td>Fintech</td>\n",
       "      <td>Stockholm</td>\n",
       "      <td>Sweden</td>\n",
       "      <td>Europe</td>\n",
       "      <td>2005</td>\n",
       "      <td>4.0</td>\n",
       "      <td>Institutional Venture Partners, Sequoia Capita...</td>\n",
       "      <td>2011</td>\n",
       "    </tr>\n",
       "  </tbody>\n",
       "</table>\n",
       "</div>"
      ],
      "text/plain": [
       "     Company  Valuation ($B) Date Joined                         Industry  \\\n",
       "0  Bytedance             180  2017-04-07          Artificial intelligence   \n",
       "1     SpaceX             100  2012-12-01                            Other   \n",
       "2      SHEIN             100  2018-07-03  E-commerce & direct-to-consumer   \n",
       "3     Stripe              95  2014-01-23                          Fintech   \n",
       "4     Klarna              46  2011-12-12                          Fintech   \n",
       "\n",
       "            City        Country      Continent  Year Founded  Funding ($B)  \\\n",
       "0        Beijing          China           Asia          2012           8.0   \n",
       "1      Hawthorne  United States  North America          2002           7.0   \n",
       "2       Shenzhen          China           Asia          2008           2.0   \n",
       "3  San Francisco  United States  North America          2010           2.0   \n",
       "4      Stockholm         Sweden         Europe          2005           4.0   \n",
       "\n",
       "                                    Select Investors  Year Joined  \n",
       "0  Sequoia Capital China, SIG Asia Investments, S...         2017  \n",
       "1  Founders Fund, Draper Fisher Jurvetson, Rothen...         2012  \n",
       "2  Tiger Global Management, Sequoia Capital China...         2018  \n",
       "3        Khosla Ventures, LowercaseCapital, capitalG         2014  \n",
       "4  Institutional Venture Partners, Sequoia Capita...         2011  "
      ]
     },
     "execution_count": 54,
     "metadata": {},
     "output_type": "execute_result"
    }
   ],
   "source": [
    "## eye ball the data\n",
    "df.head()"
   ]
  },
  {
   "cell_type": "code",
   "execution_count": 55,
   "id": "6efdfb4d",
   "metadata": {},
   "outputs": [
    {
     "data": {
      "text/html": [
       "<div>\n",
       "<style scoped>\n",
       "    .dataframe tbody tr th:only-of-type {\n",
       "        vertical-align: middle;\n",
       "    }\n",
       "\n",
       "    .dataframe tbody tr th {\n",
       "        vertical-align: top;\n",
       "    }\n",
       "\n",
       "    .dataframe thead th {\n",
       "        text-align: right;\n",
       "    }\n",
       "</style>\n",
       "<table border=\"1\" class=\"dataframe\">\n",
       "  <thead>\n",
       "    <tr style=\"text-align: right;\">\n",
       "      <th></th>\n",
       "      <th>0</th>\n",
       "    </tr>\n",
       "  </thead>\n",
       "  <tbody>\n",
       "    <tr>\n",
       "      <th>0</th>\n",
       "      <td>Sequoia Capital China</td>\n",
       "    </tr>\n",
       "    <tr>\n",
       "      <th>1</th>\n",
       "      <td>SIG Asia Investments</td>\n",
       "    </tr>\n",
       "    <tr>\n",
       "      <th>2</th>\n",
       "      <td>Sina Weibo</td>\n",
       "    </tr>\n",
       "    <tr>\n",
       "      <th>3</th>\n",
       "      <td>Softbank Group</td>\n",
       "    </tr>\n",
       "    <tr>\n",
       "      <th>4</th>\n",
       "      <td>Founders Fund</td>\n",
       "    </tr>\n",
       "    <tr>\n",
       "      <th>...</th>\n",
       "      <td>...</td>\n",
       "    </tr>\n",
       "    <tr>\n",
       "      <th>3047</th>\n",
       "      <td>IAG Capital Partners</td>\n",
       "    </tr>\n",
       "    <tr>\n",
       "      <th>3048</th>\n",
       "      <td>Augmentum Fintech</td>\n",
       "    </tr>\n",
       "    <tr>\n",
       "      <th>3050</th>\n",
       "      <td>Novator Partners</td>\n",
       "    </tr>\n",
       "    <tr>\n",
       "      <th>3051</th>\n",
       "      <td>True</td>\n",
       "    </tr>\n",
       "    <tr>\n",
       "      <th>3052</th>\n",
       "      <td>Causeway Media Partners</td>\n",
       "    </tr>\n",
       "  </tbody>\n",
       "</table>\n",
       "<p>1527 rows × 1 columns</p>\n",
       "</div>"
      ],
      "text/plain": [
       "                             0\n",
       "0        Sequoia Capital China\n",
       "1         SIG Asia Investments\n",
       "2                   Sina Weibo\n",
       "3               Softbank Group\n",
       "4                Founders Fund\n",
       "...                        ...\n",
       "3047      IAG Capital Partners\n",
       "3048         Augmentum Fintech\n",
       "3050          Novator Partners\n",
       "3051                      True\n",
       "3052   Causeway Media Partners\n",
       "\n",
       "[1527 rows x 1 columns]"
      ]
     },
     "execution_count": 55,
     "metadata": {},
     "output_type": "execute_result"
    }
   ],
   "source": [
    "investors_df"
   ]
  },
  {
   "cell_type": "code",
   "execution_count": 56,
   "id": "043df445",
   "metadata": {},
   "outputs": [],
   "source": [
    "#3 Data Cleaing complete, we can  now rename the data\n",
    "cleaned_df = df.copy()"
   ]
  },
  {
   "cell_type": "code",
   "execution_count": 57,
   "id": "3f9f4001",
   "metadata": {},
   "outputs": [
    {
     "data": {
      "text/html": [
       "<div>\n",
       "<style scoped>\n",
       "    .dataframe tbody tr th:only-of-type {\n",
       "        vertical-align: middle;\n",
       "    }\n",
       "\n",
       "    .dataframe tbody tr th {\n",
       "        vertical-align: top;\n",
       "    }\n",
       "\n",
       "    .dataframe thead th {\n",
       "        text-align: right;\n",
       "    }\n",
       "</style>\n",
       "<table border=\"1\" class=\"dataframe\">\n",
       "  <thead>\n",
       "    <tr style=\"text-align: right;\">\n",
       "      <th></th>\n",
       "      <th>Company</th>\n",
       "      <th>Valuation ($B)</th>\n",
       "      <th>Date Joined</th>\n",
       "      <th>Industry</th>\n",
       "      <th>City</th>\n",
       "      <th>Country</th>\n",
       "      <th>Continent</th>\n",
       "      <th>Year Founded</th>\n",
       "      <th>Funding ($B)</th>\n",
       "      <th>Select Investors</th>\n",
       "      <th>Year Joined</th>\n",
       "    </tr>\n",
       "  </thead>\n",
       "  <tbody>\n",
       "    <tr>\n",
       "      <th>0</th>\n",
       "      <td>Bytedance</td>\n",
       "      <td>180</td>\n",
       "      <td>2017-04-07</td>\n",
       "      <td>Artificial intelligence</td>\n",
       "      <td>Beijing</td>\n",
       "      <td>China</td>\n",
       "      <td>Asia</td>\n",
       "      <td>2012</td>\n",
       "      <td>8.0</td>\n",
       "      <td>Sequoia Capital China, SIG Asia Investments, S...</td>\n",
       "      <td>2017</td>\n",
       "    </tr>\n",
       "    <tr>\n",
       "      <th>1</th>\n",
       "      <td>SpaceX</td>\n",
       "      <td>100</td>\n",
       "      <td>2012-12-01</td>\n",
       "      <td>Other</td>\n",
       "      <td>Hawthorne</td>\n",
       "      <td>United States</td>\n",
       "      <td>North America</td>\n",
       "      <td>2002</td>\n",
       "      <td>7.0</td>\n",
       "      <td>Founders Fund, Draper Fisher Jurvetson, Rothen...</td>\n",
       "      <td>2012</td>\n",
       "    </tr>\n",
       "    <tr>\n",
       "      <th>2</th>\n",
       "      <td>SHEIN</td>\n",
       "      <td>100</td>\n",
       "      <td>2018-07-03</td>\n",
       "      <td>E-commerce &amp; direct-to-consumer</td>\n",
       "      <td>Shenzhen</td>\n",
       "      <td>China</td>\n",
       "      <td>Asia</td>\n",
       "      <td>2008</td>\n",
       "      <td>2.0</td>\n",
       "      <td>Tiger Global Management, Sequoia Capital China...</td>\n",
       "      <td>2018</td>\n",
       "    </tr>\n",
       "    <tr>\n",
       "      <th>3</th>\n",
       "      <td>Stripe</td>\n",
       "      <td>95</td>\n",
       "      <td>2014-01-23</td>\n",
       "      <td>Fintech</td>\n",
       "      <td>San Francisco</td>\n",
       "      <td>United States</td>\n",
       "      <td>North America</td>\n",
       "      <td>2010</td>\n",
       "      <td>2.0</td>\n",
       "      <td>Khosla Ventures, LowercaseCapital, capitalG</td>\n",
       "      <td>2014</td>\n",
       "    </tr>\n",
       "    <tr>\n",
       "      <th>4</th>\n",
       "      <td>Klarna</td>\n",
       "      <td>46</td>\n",
       "      <td>2011-12-12</td>\n",
       "      <td>Fintech</td>\n",
       "      <td>Stockholm</td>\n",
       "      <td>Sweden</td>\n",
       "      <td>Europe</td>\n",
       "      <td>2005</td>\n",
       "      <td>4.0</td>\n",
       "      <td>Institutional Venture Partners, Sequoia Capita...</td>\n",
       "      <td>2011</td>\n",
       "    </tr>\n",
       "  </tbody>\n",
       "</table>\n",
       "</div>"
      ],
      "text/plain": [
       "     Company  Valuation ($B) Date Joined                         Industry  \\\n",
       "0  Bytedance             180  2017-04-07          Artificial intelligence   \n",
       "1     SpaceX             100  2012-12-01                            Other   \n",
       "2      SHEIN             100  2018-07-03  E-commerce & direct-to-consumer   \n",
       "3     Stripe              95  2014-01-23                          Fintech   \n",
       "4     Klarna              46  2011-12-12                          Fintech   \n",
       "\n",
       "            City        Country      Continent  Year Founded  Funding ($B)  \\\n",
       "0        Beijing          China           Asia          2012           8.0   \n",
       "1      Hawthorne  United States  North America          2002           7.0   \n",
       "2       Shenzhen          China           Asia          2008           2.0   \n",
       "3  San Francisco  United States  North America          2010           2.0   \n",
       "4      Stockholm         Sweden         Europe          2005           4.0   \n",
       "\n",
       "                                    Select Investors  Year Joined  \n",
       "0  Sequoia Capital China, SIG Asia Investments, S...         2017  \n",
       "1  Founders Fund, Draper Fisher Jurvetson, Rothen...         2012  \n",
       "2  Tiger Global Management, Sequoia Capital China...         2018  \n",
       "3        Khosla Ventures, LowercaseCapital, capitalG         2014  \n",
       "4  Institutional Venture Partners, Sequoia Capita...         2011  "
      ]
     },
     "execution_count": 57,
     "metadata": {},
     "output_type": "execute_result"
    }
   ],
   "source": [
    "cleaned_df.head()"
   ]
  },
  {
   "cell_type": "code",
   "execution_count": 58,
   "id": "baa21be4",
   "metadata": {},
   "outputs": [
    {
     "data": {
      "text/plain": [
       "['Valuation ($B)', 'Year Founded', 'Funding ($B)', 'Year Joined']"
      ]
     },
     "execution_count": 58,
     "metadata": {},
     "output_type": "execute_result"
    }
   ],
   "source": [
    "numerical_cols = cleaned_df.select_dtypes(include = ['int64', 'float64','int32']).columns.tolist()\n",
    "numerical_cols"
   ]
  },
  {
   "cell_type": "code",
   "execution_count": 59,
   "id": "1993ed5d",
   "metadata": {
    "scrolled": true
   },
   "outputs": [
    {
     "data": {
      "text/html": [
       "<div>\n",
       "<style scoped>\n",
       "    .dataframe tbody tr th:only-of-type {\n",
       "        vertical-align: middle;\n",
       "    }\n",
       "\n",
       "    .dataframe tbody tr th {\n",
       "        vertical-align: top;\n",
       "    }\n",
       "\n",
       "    .dataframe thead th {\n",
       "        text-align: right;\n",
       "    }\n",
       "</style>\n",
       "<table border=\"1\" class=\"dataframe\">\n",
       "  <thead>\n",
       "    <tr style=\"text-align: right;\">\n",
       "      <th></th>\n",
       "      <th>Valuation ($B)</th>\n",
       "      <th>Date Joined</th>\n",
       "      <th>Year Founded</th>\n",
       "      <th>Funding ($B)</th>\n",
       "      <th>Year Joined</th>\n",
       "    </tr>\n",
       "  </thead>\n",
       "  <tbody>\n",
       "    <tr>\n",
       "      <th>count</th>\n",
       "      <td>1074.000000</td>\n",
       "      <td>1074</td>\n",
       "      <td>1074.000000</td>\n",
       "      <td>1074.000000</td>\n",
       "      <td>1074.000000</td>\n",
       "    </tr>\n",
       "    <tr>\n",
       "      <th>mean</th>\n",
       "      <td>3.455307</td>\n",
       "      <td>2020-05-19 15:35:51.955307264</td>\n",
       "      <td>2012.895717</td>\n",
       "      <td>0.608725</td>\n",
       "      <td>2019.896648</td>\n",
       "    </tr>\n",
       "    <tr>\n",
       "      <th>min</th>\n",
       "      <td>1.000000</td>\n",
       "      <td>2007-07-02 00:00:00</td>\n",
       "      <td>1919.000000</td>\n",
       "      <td>0.017000</td>\n",
       "      <td>2007.000000</td>\n",
       "    </tr>\n",
       "    <tr>\n",
       "      <th>25%</th>\n",
       "      <td>1.000000</td>\n",
       "      <td>2019-05-20 06:00:00</td>\n",
       "      <td>2011.000000</td>\n",
       "      <td>0.226000</td>\n",
       "      <td>2019.000000</td>\n",
       "    </tr>\n",
       "    <tr>\n",
       "      <th>50%</th>\n",
       "      <td>2.000000</td>\n",
       "      <td>2021-03-29 00:00:00</td>\n",
       "      <td>2014.000000</td>\n",
       "      <td>0.378500</td>\n",
       "      <td>2021.000000</td>\n",
       "    </tr>\n",
       "    <tr>\n",
       "      <th>75%</th>\n",
       "      <td>3.000000</td>\n",
       "      <td>2021-09-19 18:00:00</td>\n",
       "      <td>2016.000000</td>\n",
       "      <td>0.638500</td>\n",
       "      <td>2021.000000</td>\n",
       "    </tr>\n",
       "    <tr>\n",
       "      <th>max</th>\n",
       "      <td>180.000000</td>\n",
       "      <td>2022-04-05 00:00:00</td>\n",
       "      <td>2021.000000</td>\n",
       "      <td>15.000000</td>\n",
       "      <td>2022.000000</td>\n",
       "    </tr>\n",
       "    <tr>\n",
       "      <th>std</th>\n",
       "      <td>8.547022</td>\n",
       "      <td>NaN</td>\n",
       "      <td>5.698573</td>\n",
       "      <td>1.076820</td>\n",
       "      <td>2.001288</td>\n",
       "    </tr>\n",
       "  </tbody>\n",
       "</table>\n",
       "</div>"
      ],
      "text/plain": [
       "       Valuation ($B)                    Date Joined  Year Founded  \\\n",
       "count     1074.000000                           1074   1074.000000   \n",
       "mean         3.455307  2020-05-19 15:35:51.955307264   2012.895717   \n",
       "min          1.000000            2007-07-02 00:00:00   1919.000000   \n",
       "25%          1.000000            2019-05-20 06:00:00   2011.000000   \n",
       "50%          2.000000            2021-03-29 00:00:00   2014.000000   \n",
       "75%          3.000000            2021-09-19 18:00:00   2016.000000   \n",
       "max        180.000000            2022-04-05 00:00:00   2021.000000   \n",
       "std          8.547022                            NaN      5.698573   \n",
       "\n",
       "       Funding ($B)  Year Joined  \n",
       "count   1074.000000  1074.000000  \n",
       "mean       0.608725  2019.896648  \n",
       "min        0.017000  2007.000000  \n",
       "25%        0.226000  2019.000000  \n",
       "50%        0.378500  2021.000000  \n",
       "75%        0.638500  2021.000000  \n",
       "max       15.000000  2022.000000  \n",
       "std        1.076820     2.001288  "
      ]
     },
     "execution_count": 59,
     "metadata": {},
     "output_type": "execute_result"
    }
   ],
   "source": [
    "df.describe()"
   ]
  },
  {
   "cell_type": "markdown",
   "id": "5e0b003a",
   "metadata": {},
   "source": [
    "#\"Valuation (B)\": This column shows the valuation of 1074 companies, which ranges from $1 billion to 180 billion. The average valuation is 3.46 billion, and the standard deviation is 8.55 billion.\n",
    "\n",
    "#Date Joined: This column shows the date when each company joined. The earliest date is July 2nd, 2007, and the latest date is April 5th, 2022. The average date is May 19th, 2020, at 15:35:51.\n",
    "\n",
    "#Year Founded: This column shows the year when each company was founded, ranging from 1919 to 2021. The average year founded is November 23rd, 2012, at 12:12:04.\n",
    "\n",
    "#Funding (1B): This column shows the funding of each company, ranging from 0.017 billion to 15 billion. The average funding is 0.61 billion, and the standard deviation is 1.08 billion.\n",
    "\n",
    "\n"
   ]
  },
  {
   "cell_type": "markdown",
   "id": "8845e738",
   "metadata": {},
   "source": [
    "## Exploratory Data Analysis"
   ]
  },
  {
   "cell_type": "code",
   "execution_count": 60,
   "id": "00c97e2e",
   "metadata": {},
   "outputs": [
    {
     "data": {
      "text/html": [
       "<div>\n",
       "<style scoped>\n",
       "    .dataframe tbody tr th:only-of-type {\n",
       "        vertical-align: middle;\n",
       "    }\n",
       "\n",
       "    .dataframe tbody tr th {\n",
       "        vertical-align: top;\n",
       "    }\n",
       "\n",
       "    .dataframe thead th {\n",
       "        text-align: right;\n",
       "    }\n",
       "</style>\n",
       "<table border=\"1\" class=\"dataframe\">\n",
       "  <thead>\n",
       "    <tr style=\"text-align: right;\">\n",
       "      <th></th>\n",
       "      <th>Company</th>\n",
       "      <th>Valuation ($B)</th>\n",
       "    </tr>\n",
       "  </thead>\n",
       "  <tbody>\n",
       "    <tr>\n",
       "      <th>0</th>\n",
       "      <td>Bytedance</td>\n",
       "      <td>180</td>\n",
       "    </tr>\n",
       "    <tr>\n",
       "      <th>1</th>\n",
       "      <td>SpaceX</td>\n",
       "      <td>100</td>\n",
       "    </tr>\n",
       "    <tr>\n",
       "      <th>2</th>\n",
       "      <td>SHEIN</td>\n",
       "      <td>100</td>\n",
       "    </tr>\n",
       "    <tr>\n",
       "      <th>3</th>\n",
       "      <td>Stripe</td>\n",
       "      <td>95</td>\n",
       "    </tr>\n",
       "    <tr>\n",
       "      <th>4</th>\n",
       "      <td>Klarna</td>\n",
       "      <td>46</td>\n",
       "    </tr>\n",
       "    <tr>\n",
       "      <th>5</th>\n",
       "      <td>Canva</td>\n",
       "      <td>40</td>\n",
       "    </tr>\n",
       "    <tr>\n",
       "      <th>6</th>\n",
       "      <td>Checkout</td>\n",
       "      <td>40</td>\n",
       "    </tr>\n",
       "    <tr>\n",
       "      <th>7</th>\n",
       "      <td>Instacart</td>\n",
       "      <td>39</td>\n",
       "    </tr>\n",
       "    <tr>\n",
       "      <th>8</th>\n",
       "      <td>JUUL Labs</td>\n",
       "      <td>38</td>\n",
       "    </tr>\n",
       "    <tr>\n",
       "      <th>9</th>\n",
       "      <td>Databricks</td>\n",
       "      <td>38</td>\n",
       "    </tr>\n",
       "  </tbody>\n",
       "</table>\n",
       "</div>"
      ],
      "text/plain": [
       "      Company  Valuation ($B)\n",
       "0   Bytedance             180\n",
       "1      SpaceX             100\n",
       "2       SHEIN             100\n",
       "3      Stripe              95\n",
       "4      Klarna              46\n",
       "5       Canva              40\n",
       "6    Checkout              40\n",
       "7   Instacart              39\n",
       "8   JUUL Labs              38\n",
       "9  Databricks              38"
      ]
     },
     "execution_count": 60,
     "metadata": {},
     "output_type": "execute_result"
    }
   ],
   "source": [
    "df.loc[:,['Company',\"Valuation ($B)\"]].head(10)"
   ]
  },
  {
   "cell_type": "code",
   "execution_count": 61,
   "id": "7e4066c1",
   "metadata": {},
   "outputs": [
    {
     "data": {
      "image/png": "[encoded data removed]",
      "text/plain": [
       "<Figure size 600x400 with 1 Axes>"
      ]
     },
     "metadata": {},
     "output_type": "display_data"
    }
   ],
   "source": [
    "#Lets look at Top Ten Companies with highest valuation\n",
    "plt.figure(figsize = (6, 4))\n",
    "bars = plt.bar(x = df['Company'].head(10),\n",
    "               height = df['Valuation ($B)'].head(10),\n",
    "               color = 'red')\n",
    "plt.xlabel('Company')\n",
    "plt.ylabel('Valuation ($B)')\n",
    "plt.title('Top 10 Unicorn Companies by Valuation')\n",
    "plt.xticks(rotation = 45, ha='right') \n",
    "plt.tight_layout()\n",
    "\n",
    "for bar in bars:\n",
    "    yval = bar.get_height()\n",
    "    plt.text(bar.get_x() + bar.get_width()/2, yval + 0.5, round(yval, 2), ha='center', va='bottom')\n",
    "\n",
    "plt.show()"
   ]
  },
  {
   "cell_type": "markdown",
   "id": "af49f137",
   "metadata": {},
   "source": [
    "The valuations of Unicorn companies range from 1  billion USD  to  180  billion USD. \n",
    "\n",
    "these are the top ten most valuable unicorn companies.\n",
    "\n",
    "Bytedance is the most valuable company with a valuation of 180 billion USD.\n",
    "\n",
    "SpaceX and SHEIN are tied for the second most valuable company with a valuation of 100 billion USD each.\n",
    "\n",
    "The remaining companies have valuations ranging from 46 billion USD to 38 billion USD."
   ]
  },
  {
   "cell_type": "code",
   "execution_count": 62,
   "id": "87d11464",
   "metadata": {},
   "outputs": [
    {
     "data": {
      "text/plain": [
       "Country\n",
       "United States     562\n",
       "China             173\n",
       "India              65\n",
       "United Kingdom     43\n",
       "Germany            26\n",
       "France             24\n",
       "Israel             20\n",
       "Canada             19\n",
       "Brazil             16\n",
       "Singapore          12\n",
       "Name: count, dtype: int64"
      ]
     },
     "execution_count": 62,
     "metadata": {},
     "output_type": "execute_result"
    }
   ],
   "source": [
    "df[\"Country\"].value_counts().head(10)"
   ]
  },
  {
   "cell_type": "code",
   "execution_count": 63,
   "id": "3297f0d7",
   "metadata": {},
   "outputs": [
    {
     "data": {
      "image/png": "[encoded data removed]",
      "text/plain": [
       "<Figure size 600x400 with 1 Axes>"
      ]
     },
     "metadata": {},
     "output_type": "display_data"
    }
   ],
   "source": [
    "\n",
    "# Calculate the value counts for the 'Country' column and get the top 10\n",
    "country_counts = df[\"Country\"].value_counts().head(10)\n",
    "\n",
    "\n",
    "plt.figure(figsize = (6, 4)) \n",
    "bars = plt.bar(x = country_counts.index,\n",
    "               height = country_counts.values,\n",
    "               color = 'green') \n",
    "plt.xlabel('Country', fontsize=10)\n",
    "plt.ylabel('Number of Unicorn Companies', fontsize=12)\n",
    "plt.title('Top 10 Countries with the Most Unicorn Companies', fontsize=14)\n",
    "\n",
    "\n",
    "plt.xticks(rotation = 45, ha='right')\n",
    "\n",
    "\n",
    "plt.tight_layout()\n",
    "\n",
    "\n",
    "for bar in bars:\n",
    "    yval = bar.get_height()\n",
    "    plt.text(bar.get_x() + bar.get_width()/2, \n",
    "             yval + 0.5, \n",
    "             int(yval), \n",
    "             ha='center',\n",
    "             va='bottom', \n",
    "             fontsize=8)\n",
    "plt.show()"
   ]
  },
  {
   "cell_type": "markdown",
   "id": "5a952d70",
   "metadata": {},
   "source": [
    "The country with the most companies is the United States, with a count of 562.\n",
    "\n",
    "China has the second highest number of companies, with a count of 173.\n",
    "\n",
    "India ranks third, with 65 companies.\n",
    "\n",
    "The United Kingdom has 43 companies, placing it fourth.\n",
    "\n",
    "Germany, France, Israel, Canada, Brazil, and Singapore follow with 26, 24, 20, 19, 16, and 12 companies respectively."
   ]
  },
  {
   "cell_type": "code",
   "execution_count": 64,
   "id": "246e64b0",
   "metadata": {},
   "outputs": [
    {
     "data": {
      "text/plain": [
       "Continent\n",
       "North America    589\n",
       "Asia             310\n",
       "Europe           143\n",
       "South America     21\n",
       "Oceania            8\n",
       "Africa             3\n",
       "Name: count, dtype: int64"
      ]
     },
     "execution_count": 64,
     "metadata": {},
     "output_type": "execute_result"
    }
   ],
   "source": [
    "#Lets look at the Continent with the most unicorn companies\n",
    "df[\"Continent\"].value_counts()"
   ]
  },
  {
   "cell_type": "code",
   "execution_count": 65,
   "id": "f5dc5787",
   "metadata": {},
   "outputs": [
    {
     "data": {
      "image/png": "[encoded data removed]",
      "text/plain": [
       "<Figure size 600x400 with 1 Axes>"
      ]
     },
     "metadata": {},
     "output_type": "display_data"
    }
   ],
   "source": [
    "# Calculate the value counts for the 'Continent' column and get the top 10\n",
    "continent_counts = df[\"Continent\"].value_counts().head(10)\n",
    "\n",
    "\n",
    "plt.figure(figsize = (6, 4)) \n",
    "\n",
    "bars = plt.bar(x = continent_counts.index,\n",
    "               height = continent_counts.values,\n",
    "               color = 'blue')\n",
    "\n",
    "\n",
    "plt.xlabel('Continent', fontsize=10) \n",
    "plt.ylabel('Number of Unicorn Companies', fontsize=10)\n",
    "plt.title('Top 10 Continents with the Most Unicorn Companies', fontsize=12)\n",
    "\n",
    "plt.xticks(rotation = 45, ha='right', fontsize=8)\n",
    "\n",
    "plt.tight_layout()\n",
    "\n",
    "for bar in bars:\n",
    "    yval = bar.get_height()\n",
    "    plt.text(bar.get_x() + bar.get_width()/2,\n",
    "             yval + 0.2,\n",
    "             int(yval),\n",
    "             ha='center',\n",
    "             va='bottom',\n",
    "             fontsize=8) \n",
    "plt.show()"
   ]
  },
  {
   "cell_type": "markdown",
   "id": "18eda490",
   "metadata": {},
   "source": [
    "This Chart provides an overview of the distribution of unicorn companies across different continents.\n",
    "\n",
    "North America has the highest number of companies, with 589 companies.\n",
    "\n",
    "Asia ranks second, with 310 companies.\n",
    "\n",
    "Europe has 143 companies, placing it third.\n",
    "\n",
    "South America, Oceania, and Africa follow with 21, 8, and 3 companies respectively."
   ]
  },
  {
   "cell_type": "code",
   "execution_count": 66,
   "id": "1af6f06a",
   "metadata": {
    "scrolled": true
   },
   "outputs": [
    {
     "data": {
      "text/html": [
       "<div>\n",
       "<style scoped>\n",
       "    .dataframe tbody tr th:only-of-type {\n",
       "        vertical-align: middle;\n",
       "    }\n",
       "\n",
       "    .dataframe tbody tr th {\n",
       "        vertical-align: top;\n",
       "    }\n",
       "\n",
       "    .dataframe thead th {\n",
       "        text-align: right;\n",
       "    }\n",
       "</style>\n",
       "<table border=\"1\" class=\"dataframe\">\n",
       "  <thead>\n",
       "    <tr style=\"text-align: right;\">\n",
       "      <th></th>\n",
       "      <th>Country</th>\n",
       "      <th>Valuation ($B)</th>\n",
       "    </tr>\n",
       "  </thead>\n",
       "  <tbody>\n",
       "    <tr>\n",
       "      <th>0</th>\n",
       "      <td>China</td>\n",
       "      <td>180</td>\n",
       "    </tr>\n",
       "    <tr>\n",
       "      <th>1</th>\n",
       "      <td>United States</td>\n",
       "      <td>100</td>\n",
       "    </tr>\n",
       "    <tr>\n",
       "      <th>2</th>\n",
       "      <td>China</td>\n",
       "      <td>100</td>\n",
       "    </tr>\n",
       "    <tr>\n",
       "      <th>3</th>\n",
       "      <td>United States</td>\n",
       "      <td>95</td>\n",
       "    </tr>\n",
       "    <tr>\n",
       "      <th>4</th>\n",
       "      <td>Sweden</td>\n",
       "      <td>46</td>\n",
       "    </tr>\n",
       "    <tr>\n",
       "      <th>...</th>\n",
       "      <td>...</td>\n",
       "      <td>...</td>\n",
       "    </tr>\n",
       "    <tr>\n",
       "      <th>1069</th>\n",
       "      <td>China</td>\n",
       "      <td>1</td>\n",
       "    </tr>\n",
       "    <tr>\n",
       "      <th>1070</th>\n",
       "      <td>China</td>\n",
       "      <td>1</td>\n",
       "    </tr>\n",
       "    <tr>\n",
       "      <th>1071</th>\n",
       "      <td>China</td>\n",
       "      <td>1</td>\n",
       "    </tr>\n",
       "    <tr>\n",
       "      <th>1072</th>\n",
       "      <td>United Kingdom</td>\n",
       "      <td>1</td>\n",
       "    </tr>\n",
       "    <tr>\n",
       "      <th>1073</th>\n",
       "      <td>United States</td>\n",
       "      <td>1</td>\n",
       "    </tr>\n",
       "  </tbody>\n",
       "</table>\n",
       "<p>1074 rows × 2 columns</p>\n",
       "</div>"
      ],
      "text/plain": [
       "             Country  Valuation ($B)\n",
       "0              China             180\n",
       "1      United States             100\n",
       "2              China             100\n",
       "3      United States              95\n",
       "4             Sweden              46\n",
       "...              ...             ...\n",
       "1069           China               1\n",
       "1070           China               1\n",
       "1071           China               1\n",
       "1072  United Kingdom               1\n",
       "1073   United States               1\n",
       "\n",
       "[1074 rows x 2 columns]"
      ]
     },
     "execution_count": 66,
     "metadata": {},
     "output_type": "execute_result"
    }
   ],
   "source": [
    "df.loc[:,['Country',\"Valuation ($B)\"]]"
   ]
  },
  {
   "cell_type": "code",
   "execution_count": 67,
   "id": "cdc909a1",
   "metadata": {},
   "outputs": [],
   "source": [
    "top_countries = df.loc[:,['Country',\"Valuation ($B)\"]].groupby('Country').sum().sort_values(by='Valuation ($B)', ascending=False).head(10)"
   ]
  },
  {
   "cell_type": "code",
   "execution_count": 68,
   "id": "4ea2f070",
   "metadata": {},
   "outputs": [
    {
     "data": {
      "text/html": [
       "<div>\n",
       "<style scoped>\n",
       "    .dataframe tbody tr th:only-of-type {\n",
       "        vertical-align: middle;\n",
       "    }\n",
       "\n",
       "    .dataframe tbody tr th {\n",
       "        vertical-align: top;\n",
       "    }\n",
       "\n",
       "    .dataframe thead th {\n",
       "        text-align: right;\n",
       "    }\n",
       "</style>\n",
       "<table border=\"1\" class=\"dataframe\">\n",
       "  <thead>\n",
       "    <tr style=\"text-align: right;\">\n",
       "      <th></th>\n",
       "      <th>Valuation ($B)</th>\n",
       "    </tr>\n",
       "    <tr>\n",
       "      <th>Country</th>\n",
       "      <th></th>\n",
       "    </tr>\n",
       "  </thead>\n",
       "  <tbody>\n",
       "    <tr>\n",
       "      <th>United States</th>\n",
       "      <td>1933</td>\n",
       "    </tr>\n",
       "    <tr>\n",
       "      <th>China</th>\n",
       "      <td>696</td>\n",
       "    </tr>\n",
       "    <tr>\n",
       "      <th>India</th>\n",
       "      <td>196</td>\n",
       "    </tr>\n",
       "    <tr>\n",
       "      <th>United Kingdom</th>\n",
       "      <td>195</td>\n",
       "    </tr>\n",
       "    <tr>\n",
       "      <th>Germany</th>\n",
       "      <td>72</td>\n",
       "    </tr>\n",
       "    <tr>\n",
       "      <th>Sweden</th>\n",
       "      <td>63</td>\n",
       "    </tr>\n",
       "    <tr>\n",
       "      <th>Australia</th>\n",
       "      <td>56</td>\n",
       "    </tr>\n",
       "    <tr>\n",
       "      <th>France</th>\n",
       "      <td>55</td>\n",
       "    </tr>\n",
       "    <tr>\n",
       "      <th>Canada</th>\n",
       "      <td>49</td>\n",
       "    </tr>\n",
       "    <tr>\n",
       "      <th>South Korea</th>\n",
       "      <td>41</td>\n",
       "    </tr>\n",
       "  </tbody>\n",
       "</table>\n",
       "</div>"
      ],
      "text/plain": [
       "                Valuation ($B)\n",
       "Country                       \n",
       "United States             1933\n",
       "China                      696\n",
       "India                      196\n",
       "United Kingdom             195\n",
       "Germany                     72\n",
       "Sweden                      63\n",
       "Australia                   56\n",
       "France                      55\n",
       "Canada                      49\n",
       "South Korea                 41"
      ]
     },
     "execution_count": 68,
     "metadata": {},
     "output_type": "execute_result"
    }
   ],
   "source": [
    "top_countries"
   ]
  },
  {
   "cell_type": "code",
   "execution_count": 69,
   "id": "f8f15676",
   "metadata": {},
   "outputs": [
    {
     "data": {
      "image/png": "[encoded data removed]",
      "text/plain": [
       "<Figure size 600x500 with 1 Axes>"
      ]
     },
     "metadata": {},
     "output_type": "display_data"
    }
   ],
   "source": [
    "# Calculate total valuation per country and get the top 10\n",
    "top_countries_by_valuation = df.groupby('Country')['Valuation ($B)'].sum().nlargest(10)\n",
    "\n",
    "\n",
    "plt.figure(figsize = (6, 5)) \n",
    "\n",
    "bars = plt.bar(x = top_countries_by_valuation.index,\n",
    "               height = top_countries_by_valuation.values,\n",
    "               color = 'brown')\n",
    "\n",
    "plt.xlabel('Country', fontsize=9) # \n",
    "plt.ylabel('Total Valuation ($B)', fontsize=9)\n",
    "plt.title('Top 10 Countries by Valuation of Unicorn Companies', fontsize=11)\n",
    "\n",
    "\n",
    "plt.xticks(rotation = 45, ha='right', fontsize=7)\n",
    "\n",
    "plt.tight_layout()\n",
    "\n",
    "\n",
    "for bar in bars:\n",
    "    yval = bar.get_height()\n",
    "    plt.text(bar.get_x() + bar.get_width()/2, \n",
    "             yval + 0.1,\n",
    "             f'{yval:.1f}',\n",
    "             ha='center', \n",
    "             va='bottom',\n",
    "             fontsize=7) \n",
    "\n",
    "\n",
    "plt.show()"
   ]
  },
  {
   "cell_type": "markdown",
   "id": "f2e70ca7",
   "metadata": {},
   "source": [
    "The United States has the highest number of companies, with 562 , and the highest total valuation of 1.933 trillion dollars.\n",
    "\n",
    "China ranks second with 173 companies and a total valuation of 696 billion dollars.\n",
    "\n",
    "India has 65 companies and a total valuation of 196 billion dollars, placing it third in terms of total valuation.\n",
    "\n",
    "The United Kingdom has 43 companies and a total valuation of 195 billion dollars.\n",
    "\n",
    "Germany, Sweden, Australia, France, Canada, and South Korea follow with 72, 63, 56, 55, 49, and 41 billion dollars respectively ."
   ]
  },
  {
   "cell_type": "code",
   "execution_count": 70,
   "id": "4fc03f3d",
   "metadata": {},
   "outputs": [
    {
     "data": {
      "text/html": [
       "<div>\n",
       "<style scoped>\n",
       "    .dataframe tbody tr th:only-of-type {\n",
       "        vertical-align: middle;\n",
       "    }\n",
       "\n",
       "    .dataframe tbody tr th {\n",
       "        vertical-align: top;\n",
       "    }\n",
       "\n",
       "    .dataframe thead th {\n",
       "        text-align: right;\n",
       "    }\n",
       "</style>\n",
       "<table border=\"1\" class=\"dataframe\">\n",
       "  <thead>\n",
       "    <tr style=\"text-align: right;\">\n",
       "      <th></th>\n",
       "      <th>Funding ($B)</th>\n",
       "    </tr>\n",
       "    <tr>\n",
       "      <th>Country</th>\n",
       "      <th></th>\n",
       "    </tr>\n",
       "  </thead>\n",
       "  <tbody>\n",
       "    <tr>\n",
       "      <th>United States</th>\n",
       "      <td>289.149</td>\n",
       "    </tr>\n",
       "    <tr>\n",
       "      <th>China</th>\n",
       "      <td>139.414</td>\n",
       "    </tr>\n",
       "    <tr>\n",
       "      <th>India</th>\n",
       "      <td>47.663</td>\n",
       "    </tr>\n",
       "    <tr>\n",
       "      <th>United Kingdom</th>\n",
       "      <td>30.161</td>\n",
       "    </tr>\n",
       "    <tr>\n",
       "      <th>Germany</th>\n",
       "      <td>17.394</td>\n",
       "    </tr>\n",
       "    <tr>\n",
       "      <th>Philippines</th>\n",
       "      <td>15.475</td>\n",
       "    </tr>\n",
       "    <tr>\n",
       "      <th>France</th>\n",
       "      <td>13.953</td>\n",
       "    </tr>\n",
       "    <tr>\n",
       "      <th>Ireland</th>\n",
       "      <td>9.906</td>\n",
       "    </tr>\n",
       "    <tr>\n",
       "      <th>Sweden</th>\n",
       "      <td>9.745</td>\n",
       "    </tr>\n",
       "    <tr>\n",
       "      <th>Brazil</th>\n",
       "      <td>9.670</td>\n",
       "    </tr>\n",
       "  </tbody>\n",
       "</table>\n",
       "</div>"
      ],
      "text/plain": [
       "                Funding ($B)\n",
       "Country                     \n",
       "United States        289.149\n",
       "China                139.414\n",
       "India                 47.663\n",
       "United Kingdom        30.161\n",
       "Germany               17.394\n",
       "Philippines           15.475\n",
       "France                13.953\n",
       "Ireland                9.906\n",
       "Sweden                 9.745\n",
       "Brazil                 9.670"
      ]
     },
     "execution_count": 70,
     "metadata": {},
     "output_type": "execute_result"
    }
   ],
   "source": [
    "country_funding = df.loc[:,['Country',\"Funding ($B)\"]].groupby('Country').sum()\n",
    "\n",
    "top_country = country_funding.sort_values(by='Funding ($B)', ascending=False)\n",
    "\n",
    "top_country.head(10)"
   ]
  },
  {
   "cell_type": "code",
   "execution_count": 71,
   "id": "acb1065a",
   "metadata": {},
   "outputs": [
    {
     "data": {
      "image/png": "[encoded data removed]",
      "text/plain": [
       "<Figure size 600x500 with 1 Axes>"
      ]
     },
     "metadata": {},
     "output_type": "display_data"
    }
   ],
   "source": [
    "# Calculate total funding per country and get the top 10\n",
    "country_funding = df.groupby('Country')['Funding ($B)'].sum()\n",
    "top_country_funding = country_funding.sort_values(ascending=False).head(10)\n",
    "\n",
    "\n",
    "plt.figure(figsize = (6, 5))\n",
    "\n",
    "bars = plt.bar(x = top_country_funding.index,\n",
    "               height = top_country_funding.values,\n",
    "               color = 'cyan')\n",
    "plt.xlabel('Country', fontsize=9)\n",
    "plt.ylabel('Total Funding ($B)', fontsize=9)\n",
    "plt.title('Top 10 Countries by Total Unicorn Funding', fontsize=11)\n",
    "\n",
    "plt.xticks(rotation = 45, ha='right', fontsize=7)\n",
    "\n",
    "plt.tight_layout()\n",
    "\n",
    "for bar in bars:\n",
    "    yval = bar.get_height()\n",
    "    plt.text(bar.get_x() + bar.get_width()/2,\n",
    "             yval + 0.5, \n",
    "             f'${yval:.1f}B', \n",
    "             ha='center', \n",
    "             va='bottom', \n",
    "             fontsize=7)\n",
    "plt.show()"
   ]
  },
  {
   "cell_type": "markdown",
   "id": "30a7b792",
   "metadata": {},
   "source": [
    "The United States has the highest total funding of 289.149 billion dollars.\n",
    "\n",
    "China ranks second with a total funding of 139.414 billion dollars.\n",
    "\n",
    "India has a total funding of 47.663 billion dollars, placing it third in terms of total funding.\n",
    "\n",
    "The United Kingdom has a total funding of 30.161 billion dollars.\n",
    "\n",
    "Germany, Philippines, France, Ireland, Sweden, and Brazil follow with varying total funding."
   ]
  },
  {
   "cell_type": "code",
   "execution_count": 72,
   "id": "d97d9095",
   "metadata": {},
   "outputs": [
    {
     "name": "stdout",
     "output_type": "stream",
     "text": [
      "Top 10 Companies with the Highest Funding:\n",
      "                    Company  Funding ($B)\n",
      "1012  Revolution Precrafted          15.0\n",
      "760             GalaxySpace          14.0\n",
      "8                 JUUL Labs          14.0\n",
      "743                  Manner          10.0\n",
      "792               Workhuman           9.0\n",
      "0                 Bytedance           8.0\n",
      "11               Epic Games           7.0\n",
      "1                    SpaceX           7.0\n",
      "41                   Swiggy           5.0\n",
      "38       Xingsheng Selected           5.0\n"
     ]
    }
   ],
   "source": [
    "# Top companies with the Most Funding\n",
    "top_companies = df.loc[:,['Company',\"Funding ($B)\"]].sort_values(by='Funding ($B)', ascending=False).head(10)\n",
    "\n",
    "print(\"Top 10 Companies with the Highest Funding:\")\n",
    "print(top_companies)"
   ]
  },
  {
   "cell_type": "code",
   "execution_count": 73,
   "id": "3705e2f2",
   "metadata": {},
   "outputs": [
    {
     "data": {
      "image/png": "[encoded data removed]",
      "text/plain": [
       "<Figure size 800x600 with 1 Axes>"
      ]
     },
     "metadata": {},
     "output_type": "display_data"
    }
   ],
   "source": [
    "#find the top company with the most funding\n",
    "top_companies = df.loc[:, ['Company', 'Funding ($B)']].sort_values(by='Funding ($B)', ascending=False).head(10)\n",
    "\n",
    "\n",
    "plt.figure(figsize = (8, 6))\n",
    "bars = plt.bar(x = top_companies['Company'],\n",
    "               height = top_companies['Funding ($B)'],\n",
    "               color = 'orange') \n",
    "\n",
    "plt.xlabel('Company', fontsize=10)\n",
    "plt.ylabel('Funding ($B)', fontsize=10)\n",
    "plt.title('Top 10 Unicorn Companies by Funding', fontsize=14)\n",
    "\n",
    "plt.xticks(rotation = 45, ha='right', fontsize=9)\n",
    "\n",
    "plt.tight_layout()\n",
    "\n",
    "for bar in bars:\n",
    "    yval = bar.get_height() \n",
    "    plt.text(bar.get_x() + bar.get_width()/2,\n",
    "             yval + 0.5,\n",
    "             f'${yval:.1f}B', \n",
    "             ha='center', \n",
    "             va='bottom', \n",
    "             fontsize=9)\n",
    "plt.show()"
   ]
  },
  {
   "cell_type": "markdown",
   "id": "18403c2f",
   "metadata": {},
   "source": [
    "Revolution Precrafted has the highest funding of 15 billion dollars.\n",
    "\n",
    "GalaxySpace and JUUL Labs rank second, both with a funding of 14 billion dollars.\n",
    "\n",
    "Manner and Workhuman follow with 10 and 9 billion dollars respectively.\n",
    "\n",
    "Bytedance, Epic Games, and SpaceX have a funding of 8, 7, and 7 billion dollars respectively.\n",
    "\n",
    "Swiggy and Xingsheng Selected complete the top 10 with a funding of 5 billion dollars each."
   ]
  },
  {
   "cell_type": "code",
   "execution_count": 74,
   "id": "19af1abf",
   "metadata": {
    "scrolled": true
   },
   "outputs": [
    {
     "data": {
      "text/html": [
       "<div>\n",
       "<style scoped>\n",
       "    .dataframe tbody tr th:only-of-type {\n",
       "        vertical-align: middle;\n",
       "    }\n",
       "\n",
       "    .dataframe tbody tr th {\n",
       "        vertical-align: top;\n",
       "    }\n",
       "\n",
       "    .dataframe thead th {\n",
       "        text-align: right;\n",
       "    }\n",
       "</style>\n",
       "<table border=\"1\" class=\"dataframe\">\n",
       "  <thead>\n",
       "    <tr style=\"text-align: right;\">\n",
       "      <th></th>\n",
       "      <th>Company</th>\n",
       "      <th>Valuation ($B)</th>\n",
       "      <th>Date Joined</th>\n",
       "      <th>Industry</th>\n",
       "      <th>City</th>\n",
       "      <th>Country</th>\n",
       "      <th>Continent</th>\n",
       "      <th>Year Founded</th>\n",
       "      <th>Funding ($B)</th>\n",
       "      <th>Select Investors</th>\n",
       "      <th>Year Joined</th>\n",
       "    </tr>\n",
       "  </thead>\n",
       "  <tbody>\n",
       "    <tr>\n",
       "      <th>0</th>\n",
       "      <td>Bytedance</td>\n",
       "      <td>180</td>\n",
       "      <td>2017-04-07</td>\n",
       "      <td>Artificial intelligence</td>\n",
       "      <td>Beijing</td>\n",
       "      <td>China</td>\n",
       "      <td>Asia</td>\n",
       "      <td>2012</td>\n",
       "      <td>8.0</td>\n",
       "      <td>Sequoia Capital China, SIG Asia Investments, S...</td>\n",
       "      <td>2017</td>\n",
       "    </tr>\n",
       "    <tr>\n",
       "      <th>1</th>\n",
       "      <td>SpaceX</td>\n",
       "      <td>100</td>\n",
       "      <td>2012-12-01</td>\n",
       "      <td>Other</td>\n",
       "      <td>Hawthorne</td>\n",
       "      <td>United States</td>\n",
       "      <td>North America</td>\n",
       "      <td>2002</td>\n",
       "      <td>7.0</td>\n",
       "      <td>Founders Fund, Draper Fisher Jurvetson, Rothen...</td>\n",
       "      <td>2012</td>\n",
       "    </tr>\n",
       "    <tr>\n",
       "      <th>2</th>\n",
       "      <td>SHEIN</td>\n",
       "      <td>100</td>\n",
       "      <td>2018-07-03</td>\n",
       "      <td>E-commerce &amp; direct-to-consumer</td>\n",
       "      <td>Shenzhen</td>\n",
       "      <td>China</td>\n",
       "      <td>Asia</td>\n",
       "      <td>2008</td>\n",
       "      <td>2.0</td>\n",
       "      <td>Tiger Global Management, Sequoia Capital China...</td>\n",
       "      <td>2018</td>\n",
       "    </tr>\n",
       "    <tr>\n",
       "      <th>3</th>\n",
       "      <td>Stripe</td>\n",
       "      <td>95</td>\n",
       "      <td>2014-01-23</td>\n",
       "      <td>Fintech</td>\n",
       "      <td>San Francisco</td>\n",
       "      <td>United States</td>\n",
       "      <td>North America</td>\n",
       "      <td>2010</td>\n",
       "      <td>2.0</td>\n",
       "      <td>Khosla Ventures, LowercaseCapital, capitalG</td>\n",
       "      <td>2014</td>\n",
       "    </tr>\n",
       "    <tr>\n",
       "      <th>4</th>\n",
       "      <td>Klarna</td>\n",
       "      <td>46</td>\n",
       "      <td>2011-12-12</td>\n",
       "      <td>Fintech</td>\n",
       "      <td>Stockholm</td>\n",
       "      <td>Sweden</td>\n",
       "      <td>Europe</td>\n",
       "      <td>2005</td>\n",
       "      <td>4.0</td>\n",
       "      <td>Institutional Venture Partners, Sequoia Capita...</td>\n",
       "      <td>2011</td>\n",
       "    </tr>\n",
       "  </tbody>\n",
       "</table>\n",
       "</div>"
      ],
      "text/plain": [
       "     Company  Valuation ($B) Date Joined                         Industry  \\\n",
       "0  Bytedance             180  2017-04-07          Artificial intelligence   \n",
       "1     SpaceX             100  2012-12-01                            Other   \n",
       "2      SHEIN             100  2018-07-03  E-commerce & direct-to-consumer   \n",
       "3     Stripe              95  2014-01-23                          Fintech   \n",
       "4     Klarna              46  2011-12-12                          Fintech   \n",
       "\n",
       "            City        Country      Continent  Year Founded  Funding ($B)  \\\n",
       "0        Beijing          China           Asia          2012           8.0   \n",
       "1      Hawthorne  United States  North America          2002           7.0   \n",
       "2       Shenzhen          China           Asia          2008           2.0   \n",
       "3  San Francisco  United States  North America          2010           2.0   \n",
       "4      Stockholm         Sweden         Europe          2005           4.0   \n",
       "\n",
       "                                    Select Investors  Year Joined  \n",
       "0  Sequoia Capital China, SIG Asia Investments, S...         2017  \n",
       "1  Founders Fund, Draper Fisher Jurvetson, Rothen...         2012  \n",
       "2  Tiger Global Management, Sequoia Capital China...         2018  \n",
       "3        Khosla Ventures, LowercaseCapital, capitalG         2014  \n",
       "4  Institutional Venture Partners, Sequoia Capita...         2011  "
      ]
     },
     "execution_count": 74,
     "metadata": {},
     "output_type": "execute_result"
    }
   ],
   "source": [
    "df.head()"
   ]
  },
  {
   "cell_type": "code",
   "execution_count": 75,
   "id": "fa6b2c5c",
   "metadata": {},
   "outputs": [
    {
     "data": {
      "text/plain": [
       "Year Joined\n",
       "2021    520\n",
       "2022    116\n",
       "2020    108\n",
       "2019    104\n",
       "2018    103\n",
       "2017     44\n",
       "2015     35\n",
       "2016     21\n",
       "2014     13\n",
       "2012      4\n",
       "2013      3\n",
       "2011      2\n",
       "2007      1\n",
       "Name: count, dtype: int64"
      ]
     },
     "execution_count": 75,
     "metadata": {},
     "output_type": "execute_result"
    }
   ],
   "source": [
    "df['Year Joined'].value_counts()"
   ]
  },
  {
   "cell_type": "code",
   "execution_count": 76,
   "id": "6733ac7a",
   "metadata": {},
   "outputs": [
    {
     "data": {
      "image/png": "[encoded data removed]",
      "text/plain": [
       "<Figure size 700x400 with 1 Axes>"
      ]
     },
     "metadata": {},
     "output_type": "display_data"
    }
   ],
   "source": [
    "# Calculate the number of companies that became Unicorns each year\n",
    "companies_by_year = df['Year Joined'].value_counts().sort_index()\n",
    "\n",
    "plt.figure(figsize = (7, 4))\n",
    "\n",
    "plt.plot(companies_by_year.index, companies_by_year.values, marker='o', color='red')\n",
    "\n",
    "plt.xlabel(\"Year Joined\", fontsize = 12, fontweight= 'bold')\n",
    "plt.ylabel(\"Number of Companies\", fontsize = 12, fontweight= 'bold')\n",
    "plt.title(\"Year by Number of Unicorn Companies\", fontsize = 16, fontweight= 'bold')\n",
    "\n",
    "\n",
    "for year, count in companies_by_year.items():\n",
    "\n",
    "    plt.text(year, count + 2, str(int(count)), ha='center', va='bottom', fontsize=9)\n",
    "\n",
    "plt.grid(True, linestyle='--', alpha=0.7)\n",
    "\n",
    "\n",
    "plt.xticks(companies_by_year.index, rotation = 45, ha='right', fontsize=10)\n",
    "\n",
    "plt.tight_layout()\n",
    "\n",
    "plt.show()"
   ]
  },
  {
   "cell_type": "markdown",
   "id": "52fef616",
   "metadata": {},
   "source": [
    " in the year 2007, a single company  became a unicorn company. This brave company paved the way for future entrepreneurs and set the stage for an era of innovation.\n",
    "\n",
    "As time went on, more and more companies joined the unicorn club. In 2011, two companies managed to achieve this prestigious status, showcasing the growing potential of startups. However, it wasn't until 2013 that the number of unicorn companies began to gain momentum, with three companies joining the elite ranks.\n",
    "\n",
    "The years that followed saw a steady increase in the number of unicorn companies. In 2014, 13 companies emerged as unicorns, marking a significant leap forward. The trend continued in 2015, with 35 new unicorns making their mark on the business landscape.\n",
    "\n",
    "By 2017, the unicorn phenomenon had captured the attention of entrepreneurs worldwide. A total of 44 companies achieved unicorn status, signaling a growing interest in disruptive ideas and groundbreaking technologies.\n",
    "\n",
    "In the years that followed, the unicorn club continued to expand. In 2018, 103 companies joined the ranks, followed closely by 104 in 2019. The momentum carried into 2020, as 108 new unicorns emerged amidst global challenges.\n",
    "\n",
    "However, it was in 2021 that the unicorn revolution reached its peak. A staggering 520 companies joined the unicorn club, representing a remarkable surge in entrepreneurial success and investor confidence.\n",
    "\n",
    "The following year, in 2022, 116 companies managed to achieve unicorn status, although at a slower pace compared to the previous year. This signaled both the saturation and maturation of the market.\n",
    "\n",
    "As we reflect on this journey through time, it becomes clear that the rise of unicorns symbolizes a new era of innovation and disruption. These companies have reshaped industries, created new opportunities, and inspired countless entrepreneurs to dream big.\n",
    "\n",
    "Who knows what the future holds? Perhaps more unicorns will emerge, pushing the boundaries of what is possible and shaping the world we live in. Only time will tell.\n",
    "\n"
   ]
  },
  {
   "cell_type": "code",
   "execution_count": 77,
   "id": "3fd7f8df",
   "metadata": {},
   "outputs": [
    {
     "data": {
      "text/plain": [
       "Year Joined\n",
       "2007      1.000\n",
       "2011      5.000\n",
       "2012     11.858\n",
       "2013      1.352\n",
       "2014     18.059\n",
       "2015     13.377\n",
       "2016     20.830\n",
       "2017     65.551\n",
       "2018     92.112\n",
       "2019     82.922\n",
       "2020    100.250\n",
       "2021    205.836\n",
       "2022     35.624\n",
       "Name: Funding ($B), dtype: float64"
      ]
     },
     "execution_count": 77,
     "metadata": {},
     "output_type": "execute_result"
    }
   ],
   "source": [
    " #Calculate total funding by year and sort by year for chronological plotting.\n",
    "if 'Year Joined' in df.columns and 'Funding ($B)' in df.columns:\n",
    "    funding_by_year = df.groupby('Year Joined')['Funding ($B)'].sum().sort_index()\n",
    "else:\n",
    "    print(\"Error: Required columns ('Year Joined' or 'Funding ($B)') not available for plotting.\")\n",
    "    funding_by_year = pd.Series() \n",
    "\n",
    "funding_by_year"
   ]
  },
  {
   "cell_type": "code",
   "execution_count": 78,
   "id": "ddc38abd",
   "metadata": {},
   "outputs": [
    {
     "data": {
      "image/png": "[encoded data removed]",
      "text/plain": [
       "<Figure size 800x500 with 1 Axes>"
      ]
     },
     "metadata": {},
     "output_type": "display_data"
    }
   ],
   "source": [
    "plt.figure(figsize = (8, 5))\n",
    "\n",
    "\n",
    "plt.plot(funding_by_year.index, funding_by_year.values, marker='o', color='red')\n",
    "\n",
    "plt.xlabel(\"Year Joined\", fontsize = 12, fontweight= 'bold')\n",
    "plt.ylabel(\"Total Funding ($B)\", fontsize = 12, fontweight= 'bold')\n",
    "plt.title(\"Total Funding by Year for Unicorn Companies\", fontsize = 16, fontweight= 'bold')\n",
    "\n",
    "\n",
    "for year, funding in funding_by_year.items():\n",
    "    if not np.isnan(funding):\n",
    "        plt.text(year, funding + 5, f'${funding:.1f}B', ha='center', va='bottom', fontsize=9)\n",
    "\n",
    "plt.grid(True, linestyle='--', alpha=0.7)\n",
    "\n",
    "\n",
    "plt.xticks(funding_by_year.index, rotation = 45, ha='right', fontsize=10)\n",
    "\n",
    "plt.tight_layout()\n",
    "\n",
    "plt.show()"
   ]
  },
  {
   "cell_type": "code",
   "execution_count": null,
   "id": "409ad8bc",
   "metadata": {},
   "outputs": [],
   "source": []
  },
  {
   "cell_type": "code",
   "execution_count": 79,
   "id": "461fec73",
   "metadata": {},
   "outputs": [
    {
     "data": {
      "text/plain": [
       "City\n",
       "San Francisco    152\n",
       "New York         103\n",
       "Beijing           63\n",
       "Name: count, dtype: int64"
      ]
     },
     "execution_count": 79,
     "metadata": {},
     "output_type": "execute_result"
    }
   ],
   "source": [
    "# Get the top 3 cities with the most unicorn companies\n",
    "top_3_cities = df[\"City\"].value_counts().head(3)\n",
    "top_3_cities"
   ]
  },
  {
   "cell_type": "code",
   "execution_count": 80,
   "id": "dcdbd2ea",
   "metadata": {},
   "outputs": [
    {
     "data": {
      "image/png": "[encoded data removed]",
      "text/plain": [
       "<Figure size 600x500 with 1 Axes>"
      ]
     },
     "metadata": {},
     "output_type": "display_data"
    }
   ],
   "source": [
    "\n",
    "\n",
    "plt.figure(figsize = (6, 5)) \n",
    "\n",
    "bars = plt.bar(x = top_3_cities.index,\n",
    "               height = top_3_cities.values,\n",
    "               color = 'purple')\n",
    "\n",
    "plt.xlabel('City', fontsize = 12, fontweight = 'bold')\n",
    "plt.ylabel('Number of Unicorn Companies', fontsize = 12, fontweight = 'bold')\n",
    "plt.title('Top 3 Cities with the Most Unicorn Companies', fontsize = 14, fontweight = 'bold')\n",
    "\n",
    "plt.xticks(rotation = 0, ha='center', fontsize=10)\n",
    "\n",
    "plt.tight_layout()\n",
    "\n",
    "for bar in bars:\n",
    "    yval = bar.get_height()\n",
    "    plt.text(bar.get_x() + bar.get_width()/2, \n",
    "             yval + 0.1, \n",
    "             int(yval), \n",
    "             ha='center',\n",
    "             va='bottom',\n",
    "             fontsize=10,\n",
    "             fontweight='bold')\n",
    "plt.savefig('top_3_cities_bar_chart.png')\n",
    "\n",
    "plt.show()"
   ]
  },
  {
   "cell_type": "code",
   "execution_count": 81,
   "id": "9096ec87",
   "metadata": {},
   "outputs": [],
   "source": [
    "top_industries=df[\"Industry\"].value_counts().head()"
   ]
  },
  {
   "cell_type": "code",
   "execution_count": 82,
   "id": "ca3fbffd",
   "metadata": {
    "scrolled": true
   },
   "outputs": [
    {
     "data": {
      "text/plain": [
       "Industry\n",
       "Fintech                            224\n",
       "Internet software & services       205\n",
       "E-commerce & direct-to-consumer    111\n",
       "Health                              74\n",
       "Artificial intelligence             73\n",
       "Name: count, dtype: int64"
      ]
     },
     "execution_count": 82,
     "metadata": {},
     "output_type": "execute_result"
    }
   ],
   "source": [
    "top_industries"
   ]
  },
  {
   "cell_type": "code",
   "execution_count": 83,
   "id": "6e911d11",
   "metadata": {
    "scrolled": false
   },
   "outputs": [
    {
     "data": {
      "image/png": "[encoded data removed]",
      "text/plain": [
       "<Figure size 600x700 with 1 Axes>"
      ]
     },
     "metadata": {},
     "output_type": "display_data"
    }
   ],
   "source": [
    "\n",
    "top_industries = df['Industry'].value_counts().head(10)\n",
    "\n",
    "industry_names = top_industries.index.tolist()\n",
    "industry_counts = top_industries.values.tolist()\n",
    "\n",
    "plt.figure(figsize = (6, 7))\n",
    "bars = plt.bar(industry_names, industry_counts, color='violet')\n",
    "\n",
    "plt.xlabel(\"Industry\", fontsize=12)\n",
    "plt.ylabel(\"Number of Unicorn Companies\", fontsize=12)\n",
    "plt.title(\"Top 10 Industries with the Most Unicorn Companies\", fontsize=14)\n",
    "\n",
    "plt.xticks(rotation = 45, ha='right', fontsize=10)\n",
    "\n",
    "plt.tight_layout()\n",
    "\n",
    "for bar in bars:\n",
    "    yval = bar.get_height()\n",
    "    plt.text(bar.get_x() + bar.get_width()/2, \n",
    "             yval + 0.5,\n",
    "             int(yval),\n",
    "             ha='center',\n",
    "             va='bottom', \n",
    "             fontsize=9)\n",
    "plt.show()"
   ]
  },
  {
   "cell_type": "markdown",
   "id": "13008382",
   "metadata": {},
   "source": [
    "The chart above highlights the leading industries in a given dataset, with Fintech and Internet software & services clearly dominating. These two sectors collectively account for a significant portion of the entries, with 224 and 205 counts respectively.\n",
    "\n",
    "Following these leaders, E-commerce & direct-to-consumer stands out as another substantial category, with 111 entries, underscoring the strong presence of online consumer-facing businesses.\n",
    "\n",
    "Health (74) and Artificial intelligence (73) also represent considerable segments, indicating a notable focus on innovation in these fields.\n",
    "\n",
    "Other significant industries include Supply chain, logistics, & delivery (57) and Cybersecurity (50), which demonstrate a solid footing in the market. Data management & analytics (41) and Mobile & telecommunications (38) also show a moderate but important presence.\n",
    "\n",
    "Overall, the distribution suggests a strong emphasis on technology-driven sectors, particularly those related to financial services, internet-based software, e-commerce, and emerging technologies like AI."
   ]
  },
  {
   "cell_type": "code",
   "execution_count": 84,
   "id": "93d08a12",
   "metadata": {},
   "outputs": [
    {
     "data": {
      "image/png": "[encoded data removed]",
      "text/plain": [
       "<Figure size 600x700 with 1 Axes>"
      ]
     },
     "metadata": {},
     "output_type": "display_data"
    }
   ],
   "source": [
    "# Calculate total valuation per industry and get the top 10\n",
    "industry_valuation = df.groupby('Industry')['Valuation ($B)'].sum()\n",
    "top_industry_valuation = industry_valuation.sort_values(ascending=False).head(10)\n",
    "\n",
    "# --- Plotting ---\n",
    "# Create the figure and axes for the plot\n",
    "plt.figure(figsize = (6, 7)) # Adjusted figsize for better readability of industry names\n",
    "\n",
    "# Create the bar plot with the specified color\n",
    "bars = plt.bar(x = top_industry_valuation.index,\n",
    "               height = top_industry_valuation.values,\n",
    "               color = 'pink') # Set color to red as requested\n",
    "\n",
    "# Add labels and title\n",
    "plt.xlabel('Industry', fontsize=12)\n",
    "plt.ylabel('Total Valuation ($B)', fontsize=12)\n",
    "plt.title('Top 10 Industries by Total Unicorn Valuation', fontsize=14)\n",
    "\n",
    "# Rotate x-axis labels for better readability and align them to the right\n",
    "plt.xticks(rotation = 45, ha='right', fontsize=10)\n",
    "\n",
    "# Adjust layout to prevent labels from being cut off\n",
    "plt.tight_layout()\n",
    "\n",
    "# Add data labels on top of each bar\n",
    "for bar in bars:\n",
    "    yval = bar.get_height()\n",
    "    plt.text(bar.get_x() + bar.get_width()/2, # X-coordinate for text (center of the bar)\n",
    "             yval + 0.5, # Y-coordinate for text (slightly above the bar)\n",
    "             f'${yval:.1f}B', # Format to one decimal place with '$' and 'B'\n",
    "             ha='center', # Horizontal alignment: center the text\n",
    "             va='bottom', # Vertical alignment: align text to the bottom\n",
    "             fontsize=9) # Font size for the data labels\n",
    "\n",
    "# Display the plot\n",
    "plt.show()"
   ]
  },
  {
   "cell_type": "markdown",
   "id": "06e099a1",
   "metadata": {},
   "source": [
    "\n",
    "\n",
    "This Chart represents the total valuation (in billions of dollars, judging by the name `Valuation ($B)`) across different industries.\n",
    "\n",
    "**Fintech** emerges as the absolute leader by a significant margin, boasting a total valuation of 882 billion dollars. This highlights the immense financial capital concentrated in the financial technology sector.\n",
    "\n",
    "**Internet software & services** follows as the second-largest category with a substantial valuation of 595 billion dollars, demonstrating the strong market value of companies providing online software and services.\n",
    "\n",
    "**E-commerce & direct-to-consumer** secures the third position with a total valuation of 426 billion dollars, indicating a robust and high-value online retail market.\n",
    "\n",
    "**Artificial intelligence** also shows a significant total valuation of 361 billion dollars, underscoring its rapid growth and high investment. The \"Other\" category, while broad, still commands a considerable 252 billion dollars in valuation.\n",
    "\n",
    "Other notable industries by valuation include **Health** (198 billion dollars), **Supply chain, logistics, & delivery** (177 billion dollars), **Data management & analytics** (136 billion dollars), and **Cybersecurity** (129 billion dollars). **Consumer & retail** closes out the top 10 with 106 billion dollars in total valuation.\n",
    "\n",
    "In summary, the data clearly shows a dominant trend towards high valuations in **Fintech**, **Internet software**, and **E-commerce**, with **Artificial Intelligence** also being a major value driver."
   ]
  },
  {
   "cell_type": "code",
   "execution_count": 85,
   "id": "472402f3",
   "metadata": {
    "scrolled": true
   },
   "outputs": [
    {
     "data": {
      "text/plain": [
       "Industry\n",
       "Fintech                                882\n",
       "Internet software & services           595\n",
       "E-commerce & direct-to-consumer        426\n",
       "Artificial intelligence                361\n",
       "Other                                  252\n",
       "Health                                 198\n",
       "Supply chain, logistics, & delivery    177\n",
       "Data management & analytics            136\n",
       "Cybersecurity                          129\n",
       "Consumer & retail                      106\n",
       "Name: Valuation ($B), dtype: int32"
      ]
     },
     "execution_count": 85,
     "metadata": {},
     "output_type": "execute_result"
    }
   ],
   "source": [
    "top_industry_valuation"
   ]
  },
  {
   "cell_type": "code",
   "execution_count": 86,
   "id": "d8f8b13a",
   "metadata": {},
   "outputs": [
    {
     "data": {
      "image/png": "[encoded data removed]",
      "text/plain": [
       "<Figure size 600x700 with 1 Axes>"
      ]
     },
     "metadata": {},
     "output_type": "display_data"
    }
   ],
   "source": [
    "# --- Calculate total funding per industry and get the top 10 ---\n",
    "industry_funding = df.groupby('Industry')['Funding ($B)'].sum()\n",
    "top_industry_funding = industry_funding.sort_values(ascending=False).head(10)\n",
    "\n",
    "\n",
    "plt.figure(figsize = (6, 7))\n",
    "\n",
    "\n",
    "bars = plt.bar(x = top_industry_funding.index,\n",
    "               height = top_industry_funding.values,\n",
    "               color = 'gold') # Set bar color to red as requested\n",
    "\n",
    "\n",
    "plt.xlabel('Industry', fontsize=12)\n",
    "plt.ylabel('Total Funding ($B)', fontsize=12)\n",
    "plt.title('Top 10 Industries by Total Unicorn Funding', fontsize=14)\n",
    "\n",
    "\n",
    "plt.xticks(rotation = 45, ha='right', fontsize=10)\n",
    "\n",
    "plt.tight_layout()\n",
    "\n",
    "for bar in bars:\n",
    "    yval = bar.get_height() \n",
    "    plt.text(bar.get_x() + bar.get_width()/2,\n",
    "             yval + 0.5, \n",
    "             f'${yval:.1f}B',\n",
    "             ha='center',\n",
    "             va='bottom',\n",
    "             fontsize=9) \n",
    "\n",
    "# Display the plot\n",
    "plt.show()"
   ]
  },
  {
   "cell_type": "markdown",
   "id": "805fbfe0",
   "metadata": {},
   "source": [
    "This Chart represents the total funding received (in billions of dollars) across various industries.\n",
    "\n",
    "Fintech leads significantly in total funding, having secured approximately $110.00 billion. This indicates a very high level of investment and confidence in the financial technology sector.\n",
    "\n",
    "Internet software & services follows as the second-highest funded industry with about $84.95 billion, reflecting substantial investment in software and service providers that operate online.\n",
    "\n",
    "E-commerce & direct-to-consumer is also a major recipient of funding, with approximately $76.44 billion, underscoring strong investor interest in online retail and direct-to-consumer models.\n",
    "\n",
    "The \"Other\" category, despite its general nature, shows considerable funding at around $67.02 billion. This suggests significant investment in diverse emerging or less-categorized sectors.\n",
    "\n",
    "Further down the list, Supply chain, logistics, & delivery (approx. $$45.39 billion) and Artificial intelligence (approx. $43.93 billion) have also attracted substantial funding, highlighting strategic investments in these critical and emerging areas.\n",
    "\n",
    "Auto & transportation (approx. $$35.07 billion) and Health (approx. $34.94 billion) show comparable levels of considerable funding, indicating ongoing development and investment in these sectors.\n",
    "\n",
    "Finally, Mobile & telecommunications (approx. $$29.87 billion) and Consumer & retail (approx. $26.49 billion) also represent significant funding areas, though with slightly lower totals compared to the top industries.\n",
    "\n",
    "In summary, the funding landscape is dominated by Fintech, Internet software & services, and E-commerce, showcasing the areas that are currently attracting the most substantial capital investment."
   ]
  },
  {
   "cell_type": "code",
   "execution_count": 87,
   "id": "151d63cc",
   "metadata": {},
   "outputs": [
    {
     "data": {
      "text/plain": [
       "Industry\n",
       "Fintech                                109.996\n",
       "Internet software & services            84.945\n",
       "E-commerce & direct-to-consumer         76.437\n",
       "Other                                   67.019\n",
       "Supply chain, logistics, & delivery     45.393\n",
       "Artificial intelligence                 43.925\n",
       "Auto & transportation                   35.074\n",
       "Health                                  34.944\n",
       "Mobile & telecommunications             29.870\n",
       "Consumer & retail                       26.492\n",
       "Name: Funding ($B), dtype: float64"
      ]
     },
     "execution_count": 87,
     "metadata": {},
     "output_type": "execute_result"
    }
   ],
   "source": [
    "top_industry_funding"
   ]
  },
  {
   "cell_type": "markdown",
   "id": "e3df3581",
   "metadata": {},
   "source": [
    " ## Growth Recommendations for Unicorns Companies\n",
    "#1 Access Venture Capital funds when needed\n",
    "- Unicorn companies in Africa, Oceania and South America should endeavour to approach venture capitals to negotiate how they can raise funds to scale their business. USA has over 500 Select investors supporting growth of Unicorns.\n",
    "- Network with Unicorn Companies in Countries with high numbers of Select investors to sell their business to potential investors.\n",
    "#2 Establishment of a growth culture within the business\n",
    "- Develop and share future revenue and staffing objectives and projections to internal stakeholders\n",
    "- Employ experienced employees with relevant skills and capabilities to meet current and future business needs.\n",
    "- Ensure effective communication between all levels of management and eliminate office politics, prejudice and bias.\n",
    "- Create and provide training and advancement opportunities for staff in order to drive retention.\n",
    "#3 Leverage Emerging Technology\n",
    "- Artificial Intelligence and Machine learning can help companies to improve their systems and processes. 46% of Unicorns are in Fintech and 31.4% are in Internet Software and Services.\n",
    "#4 Focus on creating the right strategic objectives per time\n",
    "- Growing customer base into new markets to increase revenue streams. There are more Unicorns in 2020 and 2022. \n",
    "- Investing more in research and developments to innovate and improve operational efficiency \n",
    "- networking and forming partnerships with other Unicorns. 47.8% of Unicorns are in San Francisco, 32.3% in New York, and 19.9% in Beijing. Other Unicorns can reach out to them for best practices on growth strategies."
   ]
  },
  {
   "cell_type": "code",
   "execution_count": null,
   "id": "477cac4e",
   "metadata": {},
   "outputs": [],
   "source": []
  }
 ],
 "metadata": {
  "kernelspec": {
   "display_name": "Python 3 (ipykernel)",
   "language": "python",
   "name": "python3"
  },
  "language_info": {
   "codemirror_mode": {
    "name": "ipython",
    "version": 3
   },
   "file_extension": ".py",
   "mimetype": "text/x-python",
   "name": "python",
   "nbconvert_exporter": "python",
   "pygments_lexer": "ipython3",
   "version": "3.11.4"
  }
 },
 "nbformat": 4,
 "nbformat_minor": 5
}
